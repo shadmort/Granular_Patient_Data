{
 "cells": [
  {
   "cell_type": "markdown",
   "metadata": {},
   "source": [
    "Visualizing distribution of first 60 hours of 250 times series. Vitals, labs, dx and AKI (acute kidney injury) scores."
   ]
  },
  {
   "cell_type": "code",
   "execution_count": null,
   "metadata": {},
   "outputs": [],
   "source": [
    "# import packages\n",
    "\n",
    "import os\n",
    "import pandas as pd\n",
    "from glob import glob \n",
    "import numpy as np\n",
    "import time\n",
    "import math\n",
    "import impyute as impy\n",
    "from collections import Counter\n",
    "\n",
    "from tslearn.clustering import KShape\n",
    "from tslearn.utils import to_time_series\n",
    "from tslearn.clustering import TimeSeriesKMeans, silhouette_score\n",
    "from tslearn.preprocessing import TimeSeriesScalerMeanVariance\n",
    "from tslearn.metrics import cdist_dtw\n",
    "\n",
    "from sklearn.cluster import KMeans\n",
    "from sklearn.metrics import silhouette_score\n",
    "from sklearn.decomposition import PCA\n",
    "\n",
    "from imblearn.under_sampling import RandomUnderSampler\n",
    "\n",
    "import matplotlib.pyplot as plt\n",
    "import seaborn as sns\n",
    "sns.set(style=\"darkgrid\", font_scale=1.2)"
   ]
  },
  {
   "cell_type": "code",
   "execution_count": null,
   "metadata": {},
   "outputs": [],
   "source": [
    "# read and append vitals data\n",
    "\n",
    "os.chdir(\"/path\")\n",
    "strain = glob(\"*.csv\")\n",
    "\n",
    "vitals = pd.DataFrame()\n",
    "\n",
    "for filename in strain:\n",
    "    df = pd.read_csv(filename)\n",
    "    df = df.sort_values(by = ['feature1', 'feature2'])\n",
    "    vitals = vitals.append(df.head(n*4)) # first n patients * 4 (15-minute increments)"
   ]
  },
  {
   "cell_type": "code",
   "execution_count": null,
   "metadata": {},
   "outputs": [],
   "source": [
    "# read and append labs data\n",
    "\n",
    "os.chdir(\"/path\")\n",
    "strain = glob(\"*.csv\")\n",
    "\n",
    "labs = pd.DataFrame()\n",
    "\n",
    "for filename in strain:\n",
    "    df = pd.read_csv(filename)\n",
    "    df = df.sort_values(by = ['feature1', 'feature2'])\n",
    "    labs = labs.append(df.head(n*4))"
   ]
  },
  {
   "cell_type": "code",
   "execution_count": null,
   "metadata": {},
   "outputs": [],
   "source": [
    "## read and append aki data\n",
    "\n",
    "os.chdir(\"/path\")\n",
    "strain = glob(\"*.csv\")\n",
    "\n",
    "aki = pd.DataFrame()\n",
    "\n",
    "for filename in strain:\n",
    "    df = pd.read_csv(filename)   \n",
    "    df = df.sort_values(by = ['feature1', 'feature2'])\n",
    "    aki = aki.append(df.head(n))"
   ]
  },
  {
   "cell_type": "code",
   "execution_count": null,
   "metadata": {},
   "outputs": [],
   "source": [
    "# read and append dx data\n",
    "\n",
    "os.chdir(\"/path\")\n",
    "strain = glob(\"*.csv\")\n",
    "\n",
    "dx = pd.DataFrame()\n",
    "\n",
    "for filename in strain:\n",
    "    df = pd.read_csv(filename) \n",
    "    df = df.sort_values(by = ['feature1', 'feature2'])\n",
    "    dx = dx.append(df.head(n*4))"
   ]
  },
  {
   "cell_type": "code",
   "execution_count": null,
   "metadata": {},
   "outputs": [],
   "source": [
    "# merge data for visualizing distribution\n",
    "\n",
    "vitals_labs = pd.merge(vitals, labs, on = ['patientunitstayid', 'hr_slot', 'min15_slot'], how = 'inner')\n",
    "dx_aki = pd.merge(dx, aki, on = ['patientunitstayid', 'hr_slot'], how = 'inner')\n",
    "X = pd.merge(vitals_labs, dx_aki, on = ['patientunitstayid', 'hr_slot'], how = 'inner')"
   ]
  },
  {
   "cell_type": "code",
   "execution_count": null,
   "metadata": {},
   "outputs": [],
   "source": [
    "# select master by hour, here we are limited by the dx which is by hour\n",
    "X = X.iloc[3::4, :]"
   ]
  },
  {
   "cell_type": "code",
   "execution_count": null,
   "metadata": {},
   "outputs": [],
   "source": [
    "y = X.pop('label')"
   ]
  },
  {
   "cell_type": "code",
   "execution_count": null,
   "metadata": {},
   "outputs": [],
   "source": [
    "# Random undersampling\n",
    "\n",
    "print('Original dataset shape %s' % Counter(y))\n",
    "\n",
    "rus = RandomUnderSampler(random_state=42)\n",
    "X_res, y_res = rus.fit_resample(X, y)\n",
    "print('Resampled dataset shape %s' % Counter(y_res))"
   ]
  },
  {
   "cell_type": "code",
   "execution_count": null,
   "metadata": {},
   "outputs": [],
   "source": [
    "X_res['label'] = y_res"
   ]
  },
  {
   "cell_type": "code",
   "execution_count": null,
   "metadata": {},
   "outputs": [],
   "source": [
    "item_counts = X_res['label'].value_counts()\n",
    "print(item_counts)"
   ]
  },
  {
   "cell_type": "code",
   "execution_count": null,
   "metadata": {},
   "outputs": [],
   "source": [
    "sns.displot(\n",
    "  data=X_res,\n",
    "  x=\"feature_x\",\n",
    "  hue=\"label_hue\",  \n",
    "  kind=\"hist\",\n",
    "  aspect=1.4\n",
    ")"
   ]
  },
  {
   "cell_type": "code",
   "execution_count": null,
   "metadata": {},
   "outputs": [],
   "source": [
    "sns.displot(\n",
    "  data=X_res,\n",
    "  x=\"feature_x\",\n",
    "  y=\"feature_y\",\n",
    "  col=\"label_hue\",\n",
    "  kind=\"hist\",\n",
    "  height=5,\n",
    "  aspect=1.2,\n",
    "  log_scale=(10,0),\n",
    "  bins=20\n",
    ")"
   ]
  },
  {
   "cell_type": "code",
   "execution_count": null,
   "metadata": {},
   "outputs": [],
   "source": [
    "sns.displot(X_res, x=\"feature_x\", hue=\"label_hue\", kind=\"kde\") # kernel density estimation"
   ]
  },
  {
   "cell_type": "code",
   "execution_count": null,
   "metadata": {},
   "outputs": [],
   "source": [
    "sns.displot(X_res, x=\"feature_x\", x=\"feature_y\", hue=\"label_hue\", kind=\"kde\") # kernel density estimation"
   ]
  },
  {
   "cell_type": "code",
   "execution_count": null,
   "metadata": {},
   "outputs": [],
   "source": [
    "sns.displot(X_res, x=\"feature_x\", hue=\"label_hue\", kind=\"ecdf\") # empirical distribution function"
   ]
  },
  {
   "cell_type": "code",
   "execution_count": null,
   "metadata": {},
   "outputs": [],
   "source": [
    "# table of labels with counts from each hour\n",
    "\n",
    "Xgb = X_res.groupby(['hour', 'label']).size().unstack(fill_value = 0)\n",
    "Xgb"
   ]
  },
  {
   "cell_type": "code",
   "execution_count": null,
   "metadata": {},
   "outputs": [],
   "source": [
    "# line plot of discribution of labels over time\n",
    "\n",
    "Xgb.plot(kind = 'line')"
   ]
  },
  {
   "cell_type": "code",
   "execution_count": null,
   "metadata": {},
   "outputs": [],
   "source": []
  }
 ],
 "metadata": {
  "kernelspec": {
   "display_name": "Python 3",
   "language": "python",
   "name": "python3"
  },
  "language_info": {
   "codemirror_mode": {
    "name": "ipython",
    "version": 3
   },
   "file_extension": ".py",
   "mimetype": "text/x-python",
   "name": "python",
   "nbconvert_exporter": "python",
   "pygments_lexer": "ipython3",
   "version": "3.8.3"
  }
 },
 "nbformat": 4,
 "nbformat_minor": 4
}
