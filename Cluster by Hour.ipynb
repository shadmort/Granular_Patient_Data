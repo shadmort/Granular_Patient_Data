{
 "cells": [
  {
   "cell_type": "code",
   "execution_count": null,
   "metadata": {},
   "outputs": [],
   "source": [
    "import pandas as pd\n",
    "import numpy as np\n",
    "import impyute as impy\n",
    "\n",
    "from collections import Counter\n",
    "\n",
    "from sklearn.cluster import KMeans\n",
    "from sklearn.metrics import silhouette_score\n",
    "from sklearn.decomposition import PCA\n",
    "from sklearn.preprocessing import StandardScaler\n",
    "\n",
    "from imblearn.under_sampling import RandomUnderSampler\n",
    "\n",
    "import matplotlib.pyplot as plt"
   ]
  },
  {
   "cell_type": "code",
   "execution_count": null,
   "metadata": {},
   "outputs": [],
   "source": [
    "X = pd.read_csv('/path/X.csv')"
   ]
  },
  {
   "cell_type": "code",
   "execution_count": null,
   "metadata": {},
   "outputs": [],
   "source": [
    "# separate labels\n",
    "\n",
    "y = X.pop('explicit_sepsis_ind')"
   ]
  },
  {
   "cell_type": "code",
   "execution_count": null,
   "metadata": {},
   "outputs": [],
   "source": [
    "# Random undersampling\n",
    "\n",
    "print('Original dataset shape %s' % Counter(y))\n",
    "\n",
    "rus = RandomUnderSampler(random_state=42)\n",
    "X_res, y_res = rus.fit_resample(X, y)\n",
    "print('Resampled dataset shape %s' % Counter(y_res))"
   ]
  },
  {
   "cell_type": "code",
   "execution_count": null,
   "metadata": {},
   "outputs": [],
   "source": [
    "# recombine features and labels\n",
    "\n",
    "X_res['explicit_sepsis_ind'] = y_res"
   ]
  },
  {
   "cell_type": "code",
   "execution_count": null,
   "metadata": {},
   "outputs": [],
   "source": [
    "# prepare for imputation\n",
    "\n",
    "Xv = X_res.values # convert to array\n",
    "Xv = impy.median(Xv)\n",
    "\n",
    "# convert back to dataframe\n",
    "km_X = pd.DataFrame(Xv, columns = X_res.columns.values.tolist())\n",
    "km_X.fillna(method='ffill')"
   ]
  },
  {
   "cell_type": "code",
   "execution_count": null,
   "metadata": {},
   "outputs": [],
   "source": [
    "Xx = km_X.sort_values(by = 'hr_slot')"
   ]
  },
  {
   "cell_type": "code",
   "execution_count": null,
   "metadata": {},
   "outputs": [],
   "source": [
    "Xgb = Xx.groupby(['hr_slot', 'explicit_sepsis_ind']).size().unstack(fill_value = 0)\n",
    "Xgb"
   ]
  },
  {
   "cell_type": "code",
   "execution_count": null,
   "metadata": {},
   "outputs": [],
   "source": [
    "X1 = Xx.iloc[0:64]"
   ]
  },
  {
   "cell_type": "code",
   "execution_count": null,
   "metadata": {},
   "outputs": [],
   "source": [
    "X2 = Xx.iloc[64:124]"
   ]
  },
  {
   "cell_type": "code",
   "execution_count": null,
   "metadata": {},
   "outputs": [],
   "source": [
    "X3 = Xx.iloc[124:193]"
   ]
  },
  {
   "cell_type": "code",
   "execution_count": null,
   "metadata": {},
   "outputs": [],
   "source": [
    "X4 = Xx.iloc[193:277]"
   ]
  },
  {
   "cell_type": "code",
   "execution_count": null,
   "metadata": {},
   "outputs": [],
   "source": [
    "X5 = Xx.iloc[277:357]"
   ]
  },
  {
   "cell_type": "code",
   "execution_count": null,
   "metadata": {},
   "outputs": [],
   "source": [
    "X6 = Xx.iloc[357:439]"
   ]
  },
  {
   "cell_type": "code",
   "execution_count": null,
   "metadata": {},
   "outputs": [],
   "source": [
    "X7 = Xx.iloc[439:526]"
   ]
  },
  {
   "cell_type": "code",
   "execution_count": null,
   "metadata": {},
   "outputs": [],
   "source": [
    "X8 = Xx.iloc[526:613]"
   ]
  },
  {
   "cell_type": "code",
   "execution_count": null,
   "metadata": {},
   "outputs": [],
   "source": [
    "X9 = Xx.iloc[613:702]"
   ]
  },
  {
   "cell_type": "code",
   "execution_count": null,
   "metadata": {},
   "outputs": [],
   "source": [
    "X10 = Xx.iloc[702:789]"
   ]
  },
  {
   "cell_type": "code",
   "execution_count": null,
   "metadata": {},
   "outputs": [],
   "source": [
    "X11 = Xx.iloc[789:861]"
   ]
  },
  {
   "cell_type": "code",
   "execution_count": null,
   "metadata": {},
   "outputs": [],
   "source": [
    "X12 = Xx.iloc[861:948]"
   ]
  },
  {
   "cell_type": "code",
   "execution_count": null,
   "metadata": {},
   "outputs": [],
   "source": [
    "X13 = Xx.iloc[948:1040]"
   ]
  },
  {
   "cell_type": "code",
   "execution_count": null,
   "metadata": {},
   "outputs": [],
   "source": [
    "X14 = Xx.iloc[1040:1129]"
   ]
  },
  {
   "cell_type": "code",
   "execution_count": null,
   "metadata": {},
   "outputs": [],
   "source": [
    "X15 = Xx.iloc[1129:1224]"
   ]
  },
  {
   "cell_type": "code",
   "execution_count": null,
   "metadata": {},
   "outputs": [],
   "source": [
    "X16 = Xx.iloc[1224:1303]"
   ]
  },
  {
   "cell_type": "code",
   "execution_count": null,
   "metadata": {},
   "outputs": [],
   "source": [
    "X17 = Xx.iloc[1303:1399]"
   ]
  },
  {
   "cell_type": "code",
   "execution_count": null,
   "metadata": {},
   "outputs": [],
   "source": [
    "X18 = Xx.iloc[1399:1473]"
   ]
  },
  {
   "cell_type": "code",
   "execution_count": null,
   "metadata": {},
   "outputs": [],
   "source": [
    "X19 = Xx.iloc[1473:1563]"
   ]
  },
  {
   "cell_type": "code",
   "execution_count": null,
   "metadata": {},
   "outputs": [],
   "source": [
    "X20 = Xx.iloc[1563:1650]"
   ]
  },
  {
   "cell_type": "code",
   "execution_count": null,
   "metadata": {},
   "outputs": [],
   "source": [
    "X21 = Xx.iloc[1650:1747]"
   ]
  },
  {
   "cell_type": "code",
   "execution_count": null,
   "metadata": {},
   "outputs": [],
   "source": [
    "X22 = Xx.iloc[1747:1845]"
   ]
  },
  {
   "cell_type": "code",
   "execution_count": null,
   "metadata": {},
   "outputs": [],
   "source": [
    "X23 = Xx.iloc[1845:1934]"
   ]
  },
  {
   "cell_type": "code",
   "execution_count": null,
   "metadata": {},
   "outputs": [],
   "source": [
    "X24 = Xx.iloc[1934:2035]"
   ]
  },
  {
   "cell_type": "code",
   "execution_count": null,
   "metadata": {},
   "outputs": [],
   "source": [
    "X25 = Xx.iloc[2035:2119]"
   ]
  },
  {
   "cell_type": "code",
   "execution_count": null,
   "metadata": {},
   "outputs": [],
   "source": [
    "X26 = Xx.iloc[2119:2206]"
   ]
  },
  {
   "cell_type": "code",
   "execution_count": null,
   "metadata": {},
   "outputs": [],
   "source": [
    "X27 = Xx.iloc[2206:2283]"
   ]
  },
  {
   "cell_type": "code",
   "execution_count": null,
   "metadata": {},
   "outputs": [],
   "source": [
    "X28 = Xx.iloc[2283:2372]"
   ]
  },
  {
   "cell_type": "code",
   "execution_count": null,
   "metadata": {},
   "outputs": [],
   "source": [
    "X29 = Xx.iloc[2372:2461]"
   ]
  },
  {
   "cell_type": "code",
   "execution_count": null,
   "metadata": {},
   "outputs": [],
   "source": [
    "X30 = Xx.iloc[2461:2555]"
   ]
  },
  {
   "cell_type": "code",
   "execution_count": null,
   "metadata": {},
   "outputs": [],
   "source": [
    "X31 = Xx.iloc[2555:2649]"
   ]
  },
  {
   "cell_type": "code",
   "execution_count": null,
   "metadata": {},
   "outputs": [],
   "source": [
    "X32 = Xx.iloc[2649:2758]"
   ]
  },
  {
   "cell_type": "code",
   "execution_count": null,
   "metadata": {},
   "outputs": [],
   "source": [
    "X33 = Xx.iloc[2758:2838]"
   ]
  },
  {
   "cell_type": "code",
   "execution_count": null,
   "metadata": {},
   "outputs": [],
   "source": [
    "X34 = Xx.iloc[2838:2938]"
   ]
  },
  {
   "cell_type": "code",
   "execution_count": null,
   "metadata": {},
   "outputs": [],
   "source": [
    "X35 = Xx.iloc[2938:3024]"
   ]
  },
  {
   "cell_type": "code",
   "execution_count": null,
   "metadata": {},
   "outputs": [],
   "source": [
    "X36 = Xx.iloc[3024:3116]"
   ]
  },
  {
   "cell_type": "code",
   "execution_count": null,
   "metadata": {},
   "outputs": [],
   "source": [
    "X37 = Xx.iloc[3116:3214]"
   ]
  },
  {
   "cell_type": "code",
   "execution_count": null,
   "metadata": {},
   "outputs": [],
   "source": [
    "X38 = Xx.iloc[3214:3306]"
   ]
  },
  {
   "cell_type": "code",
   "execution_count": null,
   "metadata": {},
   "outputs": [],
   "source": [
    "X39 = Xx.iloc[3306:3400]"
   ]
  },
  {
   "cell_type": "code",
   "execution_count": null,
   "metadata": {},
   "outputs": [],
   "source": [
    "X40 = Xx.iloc[3400:3491]"
   ]
  },
  {
   "cell_type": "code",
   "execution_count": null,
   "metadata": {},
   "outputs": [],
   "source": [
    "X41 = Xx.iloc[3491:3574]"
   ]
  },
  {
   "cell_type": "code",
   "execution_count": null,
   "metadata": {},
   "outputs": [],
   "source": [
    "X42 = Xx.iloc[3574:3674]"
   ]
  },
  {
   "cell_type": "code",
   "execution_count": null,
   "metadata": {},
   "outputs": [],
   "source": [
    "X43 = Xx.iloc[3674:3769]"
   ]
  },
  {
   "cell_type": "code",
   "execution_count": null,
   "metadata": {},
   "outputs": [],
   "source": [
    "X44 = Xx.iloc[3769:3856]"
   ]
  },
  {
   "cell_type": "code",
   "execution_count": null,
   "metadata": {},
   "outputs": [],
   "source": [
    "X45 = Xx.iloc[3856:3949]"
   ]
  },
  {
   "cell_type": "code",
   "execution_count": null,
   "metadata": {},
   "outputs": [],
   "source": [
    "X46 = Xx.iloc[3949:4041]"
   ]
  },
  {
   "cell_type": "code",
   "execution_count": null,
   "metadata": {},
   "outputs": [],
   "source": [
    "X47 = Xx.iloc[4041:4126]"
   ]
  },
  {
   "cell_type": "code",
   "execution_count": null,
   "metadata": {},
   "outputs": [],
   "source": [
    "X48 = Xx.iloc[4126:4212]"
   ]
  },
  {
   "cell_type": "code",
   "execution_count": null,
   "metadata": {},
   "outputs": [],
   "source": [
    "X49 = Xx.iloc[4212:4308]"
   ]
  },
  {
   "cell_type": "code",
   "execution_count": null,
   "metadata": {},
   "outputs": [],
   "source": [
    "X50 = Xx.iloc[4308:4400]"
   ]
  },
  {
   "cell_type": "code",
   "execution_count": null,
   "metadata": {},
   "outputs": [],
   "source": [
    "X51 = Xx.iloc[4400:4485]"
   ]
  },
  {
   "cell_type": "code",
   "execution_count": null,
   "metadata": {},
   "outputs": [],
   "source": [
    "X52 = Xx.iloc[4485:4578]"
   ]
  },
  {
   "cell_type": "code",
   "execution_count": null,
   "metadata": {},
   "outputs": [],
   "source": [
    "X53 = Xx.iloc[4578:4664]"
   ]
  },
  {
   "cell_type": "code",
   "execution_count": null,
   "metadata": {},
   "outputs": [],
   "source": [
    "X54 = Xx.iloc[4664:4757]"
   ]
  },
  {
   "cell_type": "code",
   "execution_count": null,
   "metadata": {},
   "outputs": [],
   "source": [
    "X55 = Xx.iloc[4757:4844]"
   ]
  },
  {
   "cell_type": "code",
   "execution_count": null,
   "metadata": {},
   "outputs": [],
   "source": [
    "X56 = Xx.iloc[4844:4946]"
   ]
  },
  {
   "cell_type": "code",
   "execution_count": null,
   "metadata": {},
   "outputs": [],
   "source": [
    "X57 = Xx.iloc[4946:5039]"
   ]
  },
  {
   "cell_type": "code",
   "execution_count": null,
   "metadata": {},
   "outputs": [],
   "source": [
    "X58 = Xx.iloc[5039:5129]"
   ]
  },
  {
   "cell_type": "code",
   "execution_count": null,
   "metadata": {},
   "outputs": [],
   "source": [
    "X59 = Xx.iloc[5129:5229]"
   ]
  },
  {
   "cell_type": "code",
   "execution_count": null,
   "metadata": {},
   "outputs": [],
   "source": [
    "X60 = Xx.iloc[5229:5326]"
   ]
  },
  {
   "cell_type": "code",
   "execution_count": null,
   "metadata": {},
   "outputs": [],
   "source": [
    "X14.describe()"
   ]
  },
  {
   "cell_type": "code",
   "execution_count": null,
   "metadata": {},
   "outputs": [],
   "source": [
    "scaler = StandardScaler()\n",
    "scaler.fit(Xx)\n",
    "X1 = scaler.transform(X1)"
   ]
  },
  {
   "cell_type": "code",
   "execution_count": null,
   "metadata": {},
   "outputs": [],
   "source": [
    "X2 = scaler.transform(X2)"
   ]
  },
  {
   "cell_type": "code",
   "execution_count": null,
   "metadata": {},
   "outputs": [],
   "source": [
    "X3 = scaler.transform(X3)"
   ]
  },
  {
   "cell_type": "code",
   "execution_count": null,
   "metadata": {},
   "outputs": [],
   "source": [
    "X4 = scaler.transform(X4)"
   ]
  },
  {
   "cell_type": "code",
   "execution_count": null,
   "metadata": {},
   "outputs": [],
   "source": [
    "X5 = scaler.transform(X5)"
   ]
  },
  {
   "cell_type": "code",
   "execution_count": null,
   "metadata": {},
   "outputs": [],
   "source": [
    "X6 = scaler.transform(X6)"
   ]
  },
  {
   "cell_type": "code",
   "execution_count": null,
   "metadata": {},
   "outputs": [],
   "source": [
    "X7 = scaler.transform(X7)"
   ]
  },
  {
   "cell_type": "code",
   "execution_count": null,
   "metadata": {},
   "outputs": [],
   "source": [
    "X8 = scaler.transform(X8)"
   ]
  },
  {
   "cell_type": "code",
   "execution_count": null,
   "metadata": {},
   "outputs": [],
   "source": [
    "X9 = scaler.transform(X9)"
   ]
  },
  {
   "cell_type": "code",
   "execution_count": null,
   "metadata": {},
   "outputs": [],
   "source": [
    "X10 = scaler.transform(X10)"
   ]
  },
  {
   "cell_type": "code",
   "execution_count": null,
   "metadata": {},
   "outputs": [],
   "source": [
    "X11 = scaler.transform(X11)"
   ]
  },
  {
   "cell_type": "code",
   "execution_count": null,
   "metadata": {},
   "outputs": [],
   "source": [
    "X12 = scaler.transform(X12)"
   ]
  },
  {
   "cell_type": "code",
   "execution_count": null,
   "metadata": {},
   "outputs": [],
   "source": [
    "X13 = scaler.transform(X13)"
   ]
  },
  {
   "cell_type": "code",
   "execution_count": null,
   "metadata": {},
   "outputs": [],
   "source": [
    "X14 = scaler.transform(X14)"
   ]
  },
  {
   "cell_type": "code",
   "execution_count": null,
   "metadata": {},
   "outputs": [],
   "source": [
    "X15 = scaler.transform(X15)"
   ]
  },
  {
   "cell_type": "code",
   "execution_count": null,
   "metadata": {},
   "outputs": [],
   "source": [
    "X16 = scaler.transform(X16)"
   ]
  },
  {
   "cell_type": "code",
   "execution_count": null,
   "metadata": {},
   "outputs": [],
   "source": [
    "X17 = scaler.transform(X17)"
   ]
  },
  {
   "cell_type": "code",
   "execution_count": null,
   "metadata": {},
   "outputs": [],
   "source": [
    "X18 = scaler.transform(X18)"
   ]
  },
  {
   "cell_type": "code",
   "execution_count": null,
   "metadata": {},
   "outputs": [],
   "source": [
    "X19 = scaler.transform(X19)"
   ]
  },
  {
   "cell_type": "code",
   "execution_count": null,
   "metadata": {},
   "outputs": [],
   "source": [
    "X20 = scaler.transform(X20)"
   ]
  },
  {
   "cell_type": "code",
   "execution_count": null,
   "metadata": {},
   "outputs": [],
   "source": [
    "X21 = scaler.transform(X21)"
   ]
  },
  {
   "cell_type": "code",
   "execution_count": null,
   "metadata": {},
   "outputs": [],
   "source": [
    "X22 = scaler.transform(X22)"
   ]
  },
  {
   "cell_type": "code",
   "execution_count": null,
   "metadata": {},
   "outputs": [],
   "source": [
    "X23 = scaler.transform(X23)"
   ]
  },
  {
   "cell_type": "code",
   "execution_count": null,
   "metadata": {},
   "outputs": [],
   "source": [
    "X24 = scaler.transform(X24)"
   ]
  },
  {
   "cell_type": "code",
   "execution_count": null,
   "metadata": {},
   "outputs": [],
   "source": [
    "X25 = scaler.transform(X25)"
   ]
  },
  {
   "cell_type": "code",
   "execution_count": null,
   "metadata": {},
   "outputs": [],
   "source": [
    "X26 = scaler.transform(X26)"
   ]
  },
  {
   "cell_type": "code",
   "execution_count": null,
   "metadata": {},
   "outputs": [],
   "source": [
    "X27 = scaler.transform(X27)"
   ]
  },
  {
   "cell_type": "code",
   "execution_count": null,
   "metadata": {},
   "outputs": [],
   "source": [
    "X28 = scaler.transform(X28)"
   ]
  },
  {
   "cell_type": "code",
   "execution_count": null,
   "metadata": {},
   "outputs": [],
   "source": [
    "X29 = scaler.transform(X29)"
   ]
  },
  {
   "cell_type": "code",
   "execution_count": null,
   "metadata": {},
   "outputs": [],
   "source": [
    "X30 = scaler.transform(X30)"
   ]
  },
  {
   "cell_type": "code",
   "execution_count": null,
   "metadata": {},
   "outputs": [],
   "source": [
    "X31 = scaler.transform(X31)"
   ]
  },
  {
   "cell_type": "code",
   "execution_count": null,
   "metadata": {},
   "outputs": [],
   "source": [
    "X32 = scaler.transform(X32)"
   ]
  },
  {
   "cell_type": "code",
   "execution_count": null,
   "metadata": {},
   "outputs": [],
   "source": [
    "X33 = scaler.transform(X33)"
   ]
  },
  {
   "cell_type": "code",
   "execution_count": null,
   "metadata": {},
   "outputs": [],
   "source": [
    "X34 = scaler.transform(X34)"
   ]
  },
  {
   "cell_type": "code",
   "execution_count": null,
   "metadata": {},
   "outputs": [],
   "source": [
    "X35 = scaler.transform(X35)"
   ]
  },
  {
   "cell_type": "code",
   "execution_count": null,
   "metadata": {},
   "outputs": [],
   "source": [
    "X36 = scaler.transform(X36)"
   ]
  },
  {
   "cell_type": "code",
   "execution_count": null,
   "metadata": {},
   "outputs": [],
   "source": [
    "X37 = scaler.transform(X37)"
   ]
  },
  {
   "cell_type": "code",
   "execution_count": null,
   "metadata": {},
   "outputs": [],
   "source": [
    "X38 = scaler.transform(X38)"
   ]
  },
  {
   "cell_type": "code",
   "execution_count": null,
   "metadata": {},
   "outputs": [],
   "source": [
    "X39 = scaler.transform(X39)"
   ]
  },
  {
   "cell_type": "code",
   "execution_count": null,
   "metadata": {},
   "outputs": [],
   "source": [
    "X40 = scaler.transform(X40)"
   ]
  },
  {
   "cell_type": "code",
   "execution_count": null,
   "metadata": {},
   "outputs": [],
   "source": [
    "X41 = scaler.transform(X41)"
   ]
  },
  {
   "cell_type": "code",
   "execution_count": null,
   "metadata": {},
   "outputs": [],
   "source": [
    "X42 = scaler.transform(X42)"
   ]
  },
  {
   "cell_type": "code",
   "execution_count": null,
   "metadata": {},
   "outputs": [],
   "source": [
    "X43 = scaler.transform(X43)"
   ]
  },
  {
   "cell_type": "code",
   "execution_count": null,
   "metadata": {},
   "outputs": [],
   "source": [
    "X44 = scaler.transform(X44)"
   ]
  },
  {
   "cell_type": "code",
   "execution_count": null,
   "metadata": {},
   "outputs": [],
   "source": [
    "X45 = scaler.transform(X45)"
   ]
  },
  {
   "cell_type": "code",
   "execution_count": null,
   "metadata": {},
   "outputs": [],
   "source": [
    "X46 = scaler.transform(X46)"
   ]
  },
  {
   "cell_type": "code",
   "execution_count": null,
   "metadata": {},
   "outputs": [],
   "source": [
    "X47 = scaler.transform(X47)"
   ]
  },
  {
   "cell_type": "code",
   "execution_count": null,
   "metadata": {},
   "outputs": [],
   "source": [
    "X48 = scaler.transform(X48)"
   ]
  },
  {
   "cell_type": "code",
   "execution_count": null,
   "metadata": {},
   "outputs": [],
   "source": [
    "X49 = scaler.transform(X49)"
   ]
  },
  {
   "cell_type": "code",
   "execution_count": null,
   "metadata": {},
   "outputs": [],
   "source": [
    "X50 = scaler.transform(X50)"
   ]
  },
  {
   "cell_type": "code",
   "execution_count": null,
   "metadata": {},
   "outputs": [],
   "source": [
    "X51 = scaler.transform(X51)"
   ]
  },
  {
   "cell_type": "code",
   "execution_count": null,
   "metadata": {},
   "outputs": [],
   "source": [
    "X52 = scaler.transform(X52)"
   ]
  },
  {
   "cell_type": "code",
   "execution_count": null,
   "metadata": {},
   "outputs": [],
   "source": [
    "X53 = scaler.transform(X53)"
   ]
  },
  {
   "cell_type": "code",
   "execution_count": null,
   "metadata": {},
   "outputs": [],
   "source": [
    "X54 = scaler.transform(X54)"
   ]
  },
  {
   "cell_type": "code",
   "execution_count": null,
   "metadata": {},
   "outputs": [],
   "source": [
    "X55 = scaler.transform(X55)"
   ]
  },
  {
   "cell_type": "code",
   "execution_count": null,
   "metadata": {},
   "outputs": [],
   "source": [
    "X56 = scaler.transform(X56)"
   ]
  },
  {
   "cell_type": "code",
   "execution_count": null,
   "metadata": {},
   "outputs": [],
   "source": [
    "X57 = scaler.transform(X57)"
   ]
  },
  {
   "cell_type": "code",
   "execution_count": null,
   "metadata": {},
   "outputs": [],
   "source": [
    "X58 = scaler.transform(X58)"
   ]
  },
  {
   "cell_type": "code",
   "execution_count": null,
   "metadata": {},
   "outputs": [],
   "source": [
    "X59 = scaler.transform(X59)"
   ]
  },
  {
   "cell_type": "code",
   "execution_count": null,
   "metadata": {},
   "outputs": [],
   "source": [
    "X60 = scaler.transform(X60)"
   ]
  },
  {
   "cell_type": "code",
   "execution_count": null,
   "metadata": {},
   "outputs": [],
   "source": [
    "# SKLearn Kmeans n=2 with imputation\n",
    "\n",
    "k = 2\n",
    "kmeans = KMeans(n_clusters=k)\n",
    "y_pred = kmeans.fit_predict(X1)\n",
    "\n",
    "print(kmeans.inertia_)\n",
    "print(silhouette_score(X1, kmeans.labels_))"
   ]
  },
  {
   "cell_type": "code",
   "execution_count": null,
   "metadata": {},
   "outputs": [],
   "source": [
    "#Transform the data with PCA (2component) for visualizing clusters\n",
    "pca = PCA(2)\n",
    "df = pca.fit_transform(X1)\n",
    "\n",
    "df.shape"
   ]
  },
  {
   "cell_type": "code",
   "execution_count": null,
   "metadata": {},
   "outputs": [],
   "source": [
    "#Initialize the class object\n",
    "kmeans = KMeans(n_clusters= 2)\n",
    " \n",
    "#predict the labels of clusters.\n",
    "label = kmeans.fit_predict(df)\n",
    "\n",
    "print(kmeans.inertia_)\n",
    "print(silhouette_score(X1, kmeans.labels_))"
   ]
  },
  {
   "cell_type": "code",
   "execution_count": null,
   "metadata": {},
   "outputs": [],
   "source": [
    "#Getting the Centroids\n",
    "centroids = kmeans.cluster_centers_\n",
    "u_labels = np.unique(label)\n",
    " \n",
    "#plotting the results:\n",
    "\n",
    "fig, ax = plt.subplots()\n",
    "\n",
    "for i in u_labels:\n",
    "    plt.scatter(df[label == i , 0] , df[label == i , 1] , label = i, s = 50)\n",
    "plt.scatter(centroids[:,0] , centroids[:,1] , s = 10, color = 'k')\n",
    "plt.legend()\n",
    "plt.title('Silhouette Score: 0.752')\n",
    "plt.suptitle('Cluster 1')\n",
    "plt.show()\n"
   ]
  },
  {
   "cell_type": "code",
   "execution_count": null,
   "metadata": {},
   "outputs": [],
   "source": [
    "# SKLearn Kmeans n=2 with imputation\n",
    "\n",
    "k = 2\n",
    "kmeans = KMeans(n_clusters=k)\n",
    "y_pred = kmeans.fit_predict(X2)\n",
    "\n",
    "print(kmeans.inertia_)\n",
    "print(silhouette_score(X2, kmeans.labels_))"
   ]
  },
  {
   "cell_type": "code",
   "execution_count": null,
   "metadata": {},
   "outputs": [],
   "source": [
    "#Transform the data with PCA (2component) for visualizing clusters\n",
    "pca = PCA(2)\n",
    "df = pca.fit_transform(X2)\n",
    "\n",
    "df.shape"
   ]
  },
  {
   "cell_type": "code",
   "execution_count": null,
   "metadata": {},
   "outputs": [],
   "source": [
    "#Initialize the class object\n",
    "kmeans = KMeans(n_clusters= 2)\n",
    " \n",
    "#predict the labels of clusters.\n",
    "label = kmeans.fit_predict(df)\n",
    "\n",
    "print(kmeans.inertia_)\n",
    "print(silhouette_score(X2, kmeans.labels_))"
   ]
  },
  {
   "cell_type": "code",
   "execution_count": null,
   "metadata": {},
   "outputs": [],
   "source": [
    "#Getting the Centroids\n",
    "centroids = kmeans.cluster_centers_\n",
    "u_labels = np.unique(label)\n",
    " \n",
    "#plotting the results:\n",
    "\n",
    "fig, ax = plt.subplots()\n",
    "\n",
    "for i in u_labels:\n",
    "    plt.scatter(df[label == i , 0] , df[label == i , 1] , label = i, s = 50)\n",
    "plt.scatter(centroids[:,0] , centroids[:,1] , s = 10, color = 'k')\n",
    "plt.legend()\n",
    "plt.title('Silhouette Score: 0.805')\n",
    "plt.suptitle('Cluster 2')\n",
    "plt.show()\n"
   ]
  },
  {
   "cell_type": "code",
   "execution_count": null,
   "metadata": {},
   "outputs": [],
   "source": [
    "#Transform the data with PCA (2component) for visualizing clusters\n",
    "pca = PCA(2)\n",
    "df = pca.fit_transform(X3)\n",
    "\n",
    "df.shape"
   ]
  },
  {
   "cell_type": "code",
   "execution_count": null,
   "metadata": {},
   "outputs": [],
   "source": [
    "#Initialize the class object\n",
    "kmeans = KMeans(n_clusters= 2)\n",
    " \n",
    "#predict the labels of clusters.\n",
    "label = kmeans.fit_predict(df)\n",
    "\n",
    "print(kmeans.inertia_)\n",
    "print(silhouette_score(X3, kmeans.labels_))"
   ]
  },
  {
   "cell_type": "code",
   "execution_count": null,
   "metadata": {
    "scrolled": true
   },
   "outputs": [],
   "source": [
    "#Getting the Centroids\n",
    "centroids = kmeans.cluster_centers_\n",
    "u_labels = np.unique(label)\n",
    " \n",
    "#plotting the results:\n",
    " \n",
    "fig, ax = plt.subplots()\n",
    "\n",
    "for i in u_labels:\n",
    "    plt.scatter(df[label == i , 0] , df[label == i , 1] , label = i, s = 50)\n",
    "plt.scatter(centroids[:,0] , centroids[:,1] , s = 10, color = 'k')\n",
    "plt.legend()\n",
    "plt.title('Silhouette Score: 0.712')\n",
    "plt.suptitle('Cluster 3')\n",
    "plt.show()\n"
   ]
  },
  {
   "cell_type": "code",
   "execution_count": null,
   "metadata": {},
   "outputs": [],
   "source": [
    "#Transform the data with PCA (2component) for visualizing clusters\n",
    "pca = PCA(2)\n",
    "df = pca.fit_transform(X4)\n",
    "\n",
    "df.shape\n",
    "\n",
    "#Initialize the class object\n",
    "kmeans = KMeans(n_clusters= 2)\n",
    " \n",
    "#predict the labels of clusters.\n",
    "label = kmeans.fit_predict(df)\n",
    "\n",
    "print(kmeans.inertia_)\n",
    "print(silhouette_score(X4, kmeans.labels_))\n",
    "\n",
    "#Getting the Centroids\n",
    "centroids = kmeans.cluster_centers_\n",
    "u_labels = np.unique(label)\n",
    " \n",
    "#plotting the results:\n",
    " \n",
    "fig, ax = plt.subplots()\n",
    "\n",
    "for i in u_labels:\n",
    "    plt.scatter(df[label == i , 0] , df[label == i , 1] , label = i, s = 50)\n",
    "plt.scatter(centroids[:,0] , centroids[:,1] , s = 10, color = 'k')\n",
    "plt.legend()\n",
    "plt.title('Silhouette Score: 0.414')\n",
    "plt.suptitle('Cluster 4')\n",
    "plt.show()\n"
   ]
  },
  {
   "cell_type": "code",
   "execution_count": null,
   "metadata": {},
   "outputs": [],
   "source": [
    "#Transform the data with PCA (2component) for visualizing clusters\n",
    "pca = PCA(2)\n",
    "df = pca.fit_transform(X5)\n",
    "\n",
    "df.shape\n",
    "\n",
    "#Initialize the class object\n",
    "kmeans = KMeans(n_clusters= 2)\n",
    " \n",
    "#predict the labels of clusters.\n",
    "label = kmeans.fit_predict(df)\n",
    "\n",
    "print(kmeans.inertia_)\n",
    "print(silhouette_score(X5, kmeans.labels_))\n",
    "\n",
    "#Getting the Centroids\n",
    "centroids = kmeans.cluster_centers_\n",
    "u_labels = np.unique(label)\n",
    " \n",
    "#plotting the results:\n",
    " \n",
    "fig, ax = plt.subplots()\n",
    "\n",
    "for i in u_labels:\n",
    "    plt.scatter(df[label == i , 0] , df[label == i , 1] , label = i, s = 50)\n",
    "plt.scatter(centroids[:,0] , centroids[:,1] , s = 10, color = 'k')\n",
    "plt.legend()\n",
    "plt.title('Silhouette Score: 0.662')\n",
    "plt.suptitle('Cluster 5')\n",
    "plt.show()\n"
   ]
  },
  {
   "cell_type": "code",
   "execution_count": null,
   "metadata": {},
   "outputs": [],
   "source": [
    "#Transform the data with PCA (2component) for visualizing clusters\n",
    "pca = PCA(2)\n",
    "df = pca.fit_transform(X6)\n",
    "\n",
    "df.shape\n",
    "\n",
    "#Initialize the class object\n",
    "kmeans = KMeans(n_clusters= 2)\n",
    " \n",
    "#predict the labels of clusters.\n",
    "label = kmeans.fit_predict(df)\n",
    "\n",
    "print(kmeans.inertia_)\n",
    "print(silhouette_score(X6, kmeans.labels_))\n",
    "\n",
    "#Getting the Centroids\n",
    "centroids = kmeans.cluster_centers_\n",
    "u_labels = np.unique(label)\n",
    " \n",
    "#plotting the results:\n",
    " \n",
    "fig, ax = plt.subplots()\n",
    "\n",
    "for i in u_labels:\n",
    "    plt.scatter(df[label == i , 0] , df[label == i , 1] , label = i, s = 50)\n",
    "plt.scatter(centroids[:,0] , centroids[:,1] , s = 10, color = 'k')\n",
    "plt.legend()\n",
    "plt.title('Silhouette Score: 0.778')\n",
    "plt.suptitle('Cluster 6')\n",
    "plt.show()\n"
   ]
  },
  {
   "cell_type": "code",
   "execution_count": null,
   "metadata": {},
   "outputs": [],
   "source": [
    "#Transform the data with PCA (2component) for visualizing clusters\n",
    "pca = PCA(2)\n",
    "df = pca.fit_transform(X7)\n",
    "\n",
    "df.shape\n",
    "\n",
    "#Initialize the class object\n",
    "kmeans = KMeans(n_clusters= 2)\n",
    " \n",
    "#predict the labels of clusters.\n",
    "label = kmeans.fit_predict(df)\n",
    "\n",
    "print(kmeans.inertia_)\n",
    "print(silhouette_score(X7, kmeans.labels_))\n",
    "\n",
    "#Getting the Centroids\n",
    "centroids = kmeans.cluster_centers_\n",
    "u_labels = np.unique(label)\n",
    " \n",
    "#plotting the results:\n",
    " \n",
    "fig, ax = plt.subplots()\n",
    "\n",
    "for i in u_labels:\n",
    "    plt.scatter(df[label == i , 0] , df[label == i , 1] , label = i, s = 50)\n",
    "plt.scatter(centroids[:,0] , centroids[:,1] , s = 10, color = 'k')\n",
    "plt.legend()\n",
    "plt.title('Silhouette Score: 0.838')\n",
    "plt.suptitle('Cluster 7')\n",
    "plt.show()\n"
   ]
  },
  {
   "cell_type": "code",
   "execution_count": null,
   "metadata": {},
   "outputs": [],
   "source": [
    "#Transform the data with PCA (2component) for visualizing clusters\n",
    "pca = PCA(2)\n",
    "df = pca.fit_transform(X8)\n",
    "\n",
    "df.shape\n",
    "\n",
    "#Initialize the class object\n",
    "kmeans = KMeans(n_clusters= 2)\n",
    " \n",
    "#predict the labels of clusters.\n",
    "label = kmeans.fit_predict(df)\n",
    "\n",
    "print(kmeans.inertia_)\n",
    "print(silhouette_score(X8, kmeans.labels_))\n",
    "\n",
    "#Getting the Centroids\n",
    "centroids = kmeans.cluster_centers_\n",
    "u_labels = np.unique(label)\n",
    " \n",
    "#plotting the results:\n",
    " \n",
    "fig, ax = plt.subplots()\n",
    "\n",
    "for i in u_labels:\n",
    "    plt.scatter(df[label == i , 0] , df[label == i , 1] , label = i, s = 50)\n",
    "plt.scatter(centroids[:,0] , centroids[:,1] , s = 10, color = 'k')\n",
    "plt.legend()\n",
    "plt.title('Silhouette Score: 0.822')\n",
    "plt.suptitle('Cluster 8')\n",
    "plt.show()\n"
   ]
  },
  {
   "cell_type": "code",
   "execution_count": null,
   "metadata": {},
   "outputs": [],
   "source": [
    "#Transform the data with PCA (2component) for visualizing clusters\n",
    "pca = PCA(2)\n",
    "df = pca.fit_transform(X9)\n",
    "\n",
    "df.shape\n",
    "\n",
    "#Initialize the class object\n",
    "kmeans = KMeans(n_clusters= 2)\n",
    " \n",
    "#predict the labels of clusters.\n",
    "label = kmeans.fit_predict(df)\n",
    "\n",
    "print(kmeans.inertia_)\n",
    "print(silhouette_score(X9, kmeans.labels_))\n",
    "\n",
    "#Getting the Centroids\n",
    "centroids = kmeans.cluster_centers_\n",
    "u_labels = np.unique(label)\n",
    " \n",
    "#plotting the results:\n",
    " \n",
    "fig, ax = plt.subplots()\n",
    "\n",
    "for i in u_labels:\n",
    "    plt.scatter(df[label == i , 0] , df[label == i , 1] , label = i, s = 50)\n",
    "plt.scatter(centroids[:,0] , centroids[:,1] , s = 10, color = 'k')\n",
    "plt.legend()\n",
    "plt.title('Silhouette Score: 0.808')\n",
    "plt.suptitle('Cluster 9')\n",
    "plt.show()\n"
   ]
  },
  {
   "cell_type": "code",
   "execution_count": null,
   "metadata": {},
   "outputs": [],
   "source": [
    "#Transform the data with PCA (2component) for visualizing clusters\n",
    "pca = PCA(2)\n",
    "df = pca.fit_transform(X10)\n",
    "\n",
    "df.shape\n",
    "\n",
    "#Initialize the class object\n",
    "kmeans = KMeans(n_clusters= 2)\n",
    " \n",
    "#predict the labels of clusters.\n",
    "label = kmeans.fit_predict(df)\n",
    "\n",
    "print(kmeans.inertia_)\n",
    "print(silhouette_score(X10, kmeans.labels_))\n",
    "\n",
    "#Getting the Centroids\n",
    "centroids = kmeans.cluster_centers_\n",
    "u_labels = np.unique(label)\n",
    " \n",
    "#plotting the results:\n",
    " \n",
    "fig, ax = plt.subplots()\n",
    "\n",
    "for i in u_labels:\n",
    "    plt.scatter(df[label == i , 0] , df[label == i , 1] , label = i, s = 50)\n",
    "plt.scatter(centroids[:,0] , centroids[:,1] , s = 10, color = 'k')\n",
    "plt.legend()\n",
    "plt.title('Silhouette Score: 0.740')\n",
    "plt.suptitle('Cluster 10')\n",
    "plt.show()\n"
   ]
  },
  {
   "cell_type": "code",
   "execution_count": null,
   "metadata": {},
   "outputs": [],
   "source": [
    "#Transform the data with PCA (2component) for visualizing clusters\n",
    "pca = PCA(2)\n",
    "df = pca.fit_transform(X11)\n",
    "\n",
    "df.shape\n",
    "\n",
    "#Initialize the class object\n",
    "kmeans = KMeans(n_clusters= 2)\n",
    " \n",
    "#predict the labels of clusters.\n",
    "label = kmeans.fit_predict(df)\n",
    "\n",
    "print(kmeans.inertia_)\n",
    "print(silhouette_score(X11, kmeans.labels_))\n",
    "\n",
    "#Getting the Centroids\n",
    "centroids = kmeans.cluster_centers_\n",
    "u_labels = np.unique(label)\n",
    " \n",
    "#plotting the results:\n",
    " \n",
    "fig, ax = plt.subplots()\n",
    "\n",
    "for i in u_labels:\n",
    "    plt.scatter(df[label == i , 0] , df[label == i , 1] , label = i, s = 50)\n",
    "plt.scatter(centroids[:,0] , centroids[:,1] , s = 10, color = 'k')\n",
    "plt.legend()\n",
    "plt.title('Silhouette Score: 0.860')\n",
    "plt.suptitle('Cluster 11')\n",
    "plt.show()\n"
   ]
  },
  {
   "cell_type": "code",
   "execution_count": null,
   "metadata": {},
   "outputs": [],
   "source": [
    "#Transform the data with PCA (2component) for visualizing clusters\n",
    "pca = PCA(2)\n",
    "df = pca.fit_transform(X12)\n",
    "\n",
    "df.shape\n",
    "\n",
    "#Initialize the class object\n",
    "kmeans = KMeans(n_clusters= 2)\n",
    " \n",
    "#predict the labels of clusters.\n",
    "label = kmeans.fit_predict(df)\n",
    "\n",
    "print(kmeans.inertia_)\n",
    "print(silhouette_score(X12, kmeans.labels_))\n",
    "\n",
    "#Getting the Centroids\n",
    "centroids = kmeans.cluster_centers_\n",
    "u_labels = np.unique(label)\n",
    " \n",
    "#plotting the results:\n",
    " \n",
    "fig, ax = plt.subplots()\n",
    "\n",
    "for i in u_labels:\n",
    "    plt.scatter(df[label == i , 0] , df[label == i , 1] , label = i, s = 50)\n",
    "plt.scatter(centroids[:,0] , centroids[:,1] , s = 10, color = 'k')\n",
    "plt.legend()\n",
    "plt.title('Silhouette Score: 0.757')\n",
    "plt.suptitle('Cluster 12')\n",
    "plt.show()\n"
   ]
  },
  {
   "cell_type": "code",
   "execution_count": null,
   "metadata": {},
   "outputs": [],
   "source": [
    "#Transform the data with PCA (2component) for visualizing clusters\n",
    "pca = PCA(2)\n",
    "df = pca.fit_transform(X13)\n",
    "\n",
    "df.shape\n",
    "\n",
    "#Initialize the class object\n",
    "kmeans = KMeans(n_clusters= 2)\n",
    " \n",
    "#predict the labels of clusters.\n",
    "label = kmeans.fit_predict(df)\n",
    "\n",
    "print(kmeans.inertia_)\n",
    "print(silhouette_score(X13, kmeans.labels_))\n",
    "\n",
    "#Getting the Centroids\n",
    "centroids = kmeans.cluster_centers_\n",
    "u_labels = np.unique(label)\n",
    " \n",
    "#plotting the results:\n",
    " \n",
    "fig, ax = plt.subplots()\n",
    "\n",
    "for i in u_labels:\n",
    "    plt.scatter(df[label == i , 0] , df[label == i , 1] , label = i, s = 50)\n",
    "plt.scatter(centroids[:,0] , centroids[:,1] , s = 10, color = 'k')\n",
    "plt.legend()\n",
    "plt.title('Silhouette Score: 0.894')\n",
    "plt.suptitle('Cluster 13')\n",
    "plt.show()\n"
   ]
  },
  {
   "cell_type": "code",
   "execution_count": null,
   "metadata": {},
   "outputs": [],
   "source": [
    "#Transform the data with PCA (2component) for visualizing clusters\n",
    "pca = PCA(2)\n",
    "df = pca.fit_transform(X14)\n",
    "\n",
    "df.shape\n",
    "\n",
    "#Initialize the class object\n",
    "kmeans = KMeans(n_clusters= 2)\n",
    " \n",
    "#predict the labels of clusters.\n",
    "label = kmeans.fit_predict(df)\n",
    "\n",
    "print(kmeans.inertia_)\n",
    "print(silhouette_score(X14, kmeans.labels_))\n",
    "\n",
    "#Getting the Centroids\n",
    "centroids = kmeans.cluster_centers_\n",
    "u_labels = np.unique(label)\n",
    " \n",
    "#plotting the results:\n",
    " \n",
    "fig, ax = plt.subplots()\n",
    "\n",
    "for i in u_labels:\n",
    "    plt.scatter(df[label == i , 0] , df[label == i , 1] , label = i, s = 50)\n",
    "plt.scatter(centroids[:,0] , centroids[:,1] , s = 10, color = 'k')\n",
    "plt.legend()\n",
    "plt.title('Silhouette Score: 0.526')\n",
    "plt.suptitle('Cluster 14')\n",
    "plt.show()\n"
   ]
  },
  {
   "cell_type": "code",
   "execution_count": null,
   "metadata": {},
   "outputs": [],
   "source": [
    "#Transform the data with PCA (2component) for visualizing clusters\n",
    "pca = PCA(2)\n",
    "df = pca.fit_transform(X15)\n",
    "\n",
    "df.shape\n",
    "\n",
    "#Initialize the class object\n",
    "kmeans = KMeans(n_clusters= 2)\n",
    " \n",
    "#predict the labels of clusters.\n",
    "label = kmeans.fit_predict(df)\n",
    "\n",
    "print(kmeans.inertia_)\n",
    "print(silhouette_score(X15, kmeans.labels_))\n",
    "\n",
    "#Getting the Centroids\n",
    "centroids = kmeans.cluster_centers_\n",
    "u_labels = np.unique(label)\n",
    " \n",
    "#plotting the results:\n",
    " \n",
    "fig, ax = plt.subplots()\n",
    "\n",
    "for i in u_labels:\n",
    "    plt.scatter(df[label == i , 0] , df[label == i , 1] , label = i, s = 50)\n",
    "plt.scatter(centroids[:,0] , centroids[:,1] , s = 10, color = 'k')\n",
    "plt.legend()\n",
    "plt.title('Silhouette Score: 0.640')\n",
    "plt.suptitle('Cluster 15')\n",
    "plt.show()\n"
   ]
  },
  {
   "cell_type": "code",
   "execution_count": null,
   "metadata": {},
   "outputs": [],
   "source": [
    "#Transform the data with PCA (2component) for visualizing clusters\n",
    "pca = PCA(2)\n",
    "df = pca.fit_transform(X16)\n",
    "\n",
    "df.shape\n",
    "\n",
    "#Initialize the class object\n",
    "kmeans = KMeans(n_clusters= 2)\n",
    " \n",
    "#predict the labels of clusters.\n",
    "label = kmeans.fit_predict(df)\n",
    "\n",
    "print(kmeans.inertia_)\n",
    "print(silhouette_score(X16, kmeans.labels_))\n",
    "\n",
    "#Getting the Centroids\n",
    "centroids = kmeans.cluster_centers_\n",
    "u_labels = np.unique(label)\n",
    " \n",
    "#plotting the results:\n",
    " \n",
    "fig, ax = plt.subplots()\n",
    "\n",
    "for i in u_labels:\n",
    "    plt.scatter(df[label == i , 0] , df[label == i , 1] , label = i, s = 50)\n",
    "plt.scatter(centroids[:,0] , centroids[:,1] , s = 10, color = 'k')\n",
    "plt.legend()\n",
    "plt.title('Silhouette Score: 0.835')\n",
    "plt.suptitle('Cluster 16')\n",
    "plt.show()\n"
   ]
  },
  {
   "cell_type": "code",
   "execution_count": null,
   "metadata": {},
   "outputs": [],
   "source": [
    "#Transform the data with PCA (2component) for visualizing clusters\n",
    "pca = PCA(2)\n",
    "df = pca.fit_transform(X17)\n",
    "\n",
    "df.shape\n",
    "\n",
    "#Initialize the class object\n",
    "kmeans = KMeans(n_clusters= 2)\n",
    " \n",
    "#predict the labels of clusters.\n",
    "label = kmeans.fit_predict(df)\n",
    "\n",
    "print(kmeans.inertia_)\n",
    "print(silhouette_score(X17, kmeans.labels_))\n",
    "\n",
    "#Getting the Centroids\n",
    "centroids = kmeans.cluster_centers_\n",
    "u_labels = np.unique(label)\n",
    " \n",
    "#plotting the results:\n",
    " \n",
    "fig, ax = plt.subplots()\n",
    "\n",
    "for i in u_labels:\n",
    "    plt.scatter(df[label == i , 0] , df[label == i , 1] , label = i, s = 50)\n",
    "plt.scatter(centroids[:,0] , centroids[:,1] , s = 10, color = 'k')\n",
    "plt.legend()\n",
    "plt.title('Silhouette Score: 0.813')\n",
    "plt.suptitle('Cluster 17')\n",
    "plt.show()\n"
   ]
  },
  {
   "cell_type": "code",
   "execution_count": null,
   "metadata": {},
   "outputs": [],
   "source": [
    "#Transform the data with PCA (2component) for visualizing clusters\n",
    "pca = PCA(2)\n",
    "df = pca.fit_transform(X18)\n",
    "\n",
    "df.shape\n",
    "\n",
    "#Initialize the class object\n",
    "kmeans = KMeans(n_clusters= 2)\n",
    " \n",
    "#predict the labels of clusters.\n",
    "label = kmeans.fit_predict(df)\n",
    "\n",
    "print(kmeans.inertia_)\n",
    "print(silhouette_score(X18, kmeans.labels_))\n",
    "\n",
    "#Getting the Centroids\n",
    "centroids = kmeans.cluster_centers_\n",
    "u_labels = np.unique(label)\n",
    " \n",
    "#plotting the results:\n",
    " \n",
    "fig, ax = plt.subplots()\n",
    "\n",
    "for i in u_labels:\n",
    "    plt.scatter(df[label == i , 0] , df[label == i , 1] , label = i, s = 50)\n",
    "plt.scatter(centroids[:,0] , centroids[:,1] , s = 10, color = 'k')\n",
    "plt.legend()\n",
    "plt.title('Silhouette Score: 0.886')\n",
    "plt.suptitle('Cluster 18')\n",
    "plt.show()\n"
   ]
  },
  {
   "cell_type": "code",
   "execution_count": null,
   "metadata": {},
   "outputs": [],
   "source": [
    "#Transform the data with PCA (2component) for visualizing clusters\n",
    "pca = PCA(2)\n",
    "df = pca.fit_transform(X19)\n",
    "\n",
    "df.shape\n",
    "\n",
    "#Initialize the class object\n",
    "kmeans = KMeans(n_clusters= 2)\n",
    " \n",
    "#predict the labels of clusters.\n",
    "label = kmeans.fit_predict(df)\n",
    "\n",
    "print(kmeans.inertia_)\n",
    "print(silhouette_score(X19, kmeans.labels_))\n",
    "\n",
    "#Getting the Centroids\n",
    "centroids = kmeans.cluster_centers_\n",
    "u_labels = np.unique(label)\n",
    " \n",
    "#plotting the results:\n",
    " \n",
    "fig, ax = plt.subplots()\n",
    "\n",
    "for i in u_labels:\n",
    "    plt.scatter(df[label == i , 0] , df[label == i , 1] , label = i, s = 50)\n",
    "plt.scatter(centroids[:,0] , centroids[:,1] , s = 10, color = 'k')\n",
    "plt.legend()\n",
    "plt.title('Silhouette Score: 0.556')\n",
    "plt.suptitle('Cluster 19')\n",
    "plt.show()\n"
   ]
  },
  {
   "cell_type": "code",
   "execution_count": null,
   "metadata": {},
   "outputs": [],
   "source": [
    "#Transform the data with PCA (2component) for visualizing clusters\n",
    "pca = PCA(2)\n",
    "df = pca.fit_transform(X20)\n",
    "\n",
    "df.shape\n",
    "\n",
    "#Initialize the class object\n",
    "kmeans = KMeans(n_clusters= 2)\n",
    " \n",
    "#predict the labels of clusters.\n",
    "label = kmeans.fit_predict(df)\n",
    "\n",
    "print(kmeans.inertia_)\n",
    "print(silhouette_score(X20, kmeans.labels_))\n",
    "\n",
    "#Getting the Centroids\n",
    "centroids = kmeans.cluster_centers_\n",
    "u_labels = np.unique(label)\n",
    " \n",
    "#plotting the results:\n",
    " \n",
    "fig, ax = plt.subplots()\n",
    "\n",
    "for i in u_labels:\n",
    "    plt.scatter(df[label == i , 0] , df[label == i , 1] , label = i, s = 50)\n",
    "plt.scatter(centroids[:,0] , centroids[:,1] , s = 10, color = 'k')\n",
    "plt.legend()\n",
    "plt.title('Silhouette Score: 0.817')\n",
    "plt.suptitle('Cluster 20')\n",
    "plt.show()\n"
   ]
  },
  {
   "cell_type": "code",
   "execution_count": null,
   "metadata": {},
   "outputs": [],
   "source": [
    "#Transform the data with PCA (2component) for visualizing clusters\n",
    "pca = PCA(2)\n",
    "df = pca.fit_transform(X21)\n",
    "\n",
    "df.shape\n",
    "\n",
    "#Initialize the class object\n",
    "kmeans = KMeans(n_clusters= 2)\n",
    " \n",
    "#predict the labels of clusters.\n",
    "label = kmeans.fit_predict(df)\n",
    "\n",
    "print(kmeans.inertia_)\n",
    "print(silhouette_score(X21, kmeans.labels_))\n",
    "\n",
    "#Getting the Centroids\n",
    "centroids = kmeans.cluster_centers_\n",
    "u_labels = np.unique(label)\n",
    " \n",
    "#plotting the results:\n",
    " \n",
    "fig, ax = plt.subplots()\n",
    "\n",
    "for i in u_labels:\n",
    "    plt.scatter(df[label == i , 0] , df[label == i , 1] , label = i, s = 50)\n",
    "plt.scatter(centroids[:,0] , centroids[:,1] , s = 10, color = 'k')\n",
    "plt.legend()\n",
    "plt.title('Silhouette Score: 0.854')\n",
    "plt.suptitle('Cluster 21')\n",
    "plt.show()\n"
   ]
  },
  {
   "cell_type": "code",
   "execution_count": null,
   "metadata": {},
   "outputs": [],
   "source": [
    "#Transform the data with PCA (2component) for visualizing clusters\n",
    "pca = PCA(2)\n",
    "df = pca.fit_transform(X22)\n",
    "\n",
    "df.shape\n",
    "\n",
    "#Initialize the class object\n",
    "kmeans = KMeans(n_clusters= 2)\n",
    " \n",
    "#predict the labels of clusters.\n",
    "label = kmeans.fit_predict(df)\n",
    "\n",
    "print(kmeans.inertia_)\n",
    "print(silhouette_score(X22, kmeans.labels_))\n",
    "\n",
    "#Getting the Centroids\n",
    "centroids = kmeans.cluster_centers_\n",
    "u_labels = np.unique(label)\n",
    " \n",
    "#plotting the results:\n",
    " \n",
    "fig, ax = plt.subplots()\n",
    "\n",
    "for i in u_labels:\n",
    "    plt.scatter(df[label == i , 0] , df[label == i , 1] , label = i, s = 50)\n",
    "plt.scatter(centroids[:,0] , centroids[:,1] , s = 10, color = 'k')\n",
    "plt.legend()\n",
    "plt.title('Silhouette Score: 0.690')\n",
    "plt.suptitle('Cluster 22')\n",
    "plt.show()\n"
   ]
  },
  {
   "cell_type": "code",
   "execution_count": null,
   "metadata": {},
   "outputs": [],
   "source": [
    "#Transform the data with PCA (2component) for visualizing clusters\n",
    "pca = PCA(2)\n",
    "df = pca.fit_transform(X23)\n",
    "\n",
    "df.shape\n",
    "\n",
    "#Initialize the class object\n",
    "kmeans = KMeans(n_clusters= 2)\n",
    " \n",
    "#predict the labels of clusters.\n",
    "label = kmeans.fit_predict(df)\n",
    "\n",
    "print(kmeans.inertia_)\n",
    "print(silhouette_score(X23, kmeans.labels_))\n",
    "\n",
    "#Getting the Centroids\n",
    "centroids = kmeans.cluster_centers_\n",
    "u_labels = np.unique(label)\n",
    " \n",
    "#plotting the results:\n",
    " \n",
    "fig, ax = plt.subplots()\n",
    "\n",
    "for i in u_labels:\n",
    "    plt.scatter(df[label == i , 0] , df[label == i , 1] , label = i, s = 50)\n",
    "plt.scatter(centroids[:,0] , centroids[:,1] , s = 10, color = 'k')\n",
    "plt.legend()\n",
    "plt.title('Silhouette Score: 0.641')\n",
    "plt.suptitle('Cluster 23')\n",
    "plt.show()\n"
   ]
  },
  {
   "cell_type": "code",
   "execution_count": null,
   "metadata": {},
   "outputs": [],
   "source": [
    "#Transform the data with PCA (2component) for visualizing clusters\n",
    "pca = PCA(2)\n",
    "df = pca.fit_transform(X24)\n",
    "\n",
    "df.shape\n",
    "\n",
    "#Initialize the class object\n",
    "kmeans = KMeans(n_clusters= 2)\n",
    " \n",
    "#predict the labels of clusters.\n",
    "label = kmeans.fit_predict(df)\n",
    "\n",
    "print(kmeans.inertia_)\n",
    "print(silhouette_score(X24, kmeans.labels_))\n",
    "\n",
    "#Getting the Centroids\n",
    "centroids = kmeans.cluster_centers_\n",
    "u_labels = np.unique(label)\n",
    " \n",
    "#plotting the results:\n",
    " \n",
    "fig, ax = plt.subplots()\n",
    "\n",
    "for i in u_labels:\n",
    "    plt.scatter(df[label == i , 0] , df[label == i , 1] , label = i, s = 50)\n",
    "plt.scatter(centroids[:,0] , centroids[:,1] , s = 10, color = 'k')\n",
    "plt.legend()\n",
    "plt.title('Silhouette Score: 0.754')\n",
    "plt.suptitle('Cluster 24')\n",
    "plt.show()\n"
   ]
  },
  {
   "cell_type": "code",
   "execution_count": null,
   "metadata": {},
   "outputs": [],
   "source": [
    "#Transform the data with PCA (2component) for visualizing clusters\n",
    "pca = PCA(2)\n",
    "df = pca.fit_transform(X25)\n",
    "\n",
    "df.shape\n",
    "\n",
    "#Initialize the class object\n",
    "kmeans = KMeans(n_clusters= 2)\n",
    " \n",
    "#predict the labels of clusters.\n",
    "label = kmeans.fit_predict(df)\n",
    "\n",
    "print(kmeans.inertia_)\n",
    "print(silhouette_score(X25, kmeans.labels_))\n",
    "\n",
    "#Getting the Centroids\n",
    "centroids = kmeans.cluster_centers_\n",
    "u_labels = np.unique(label)\n",
    " \n",
    "#plotting the results:\n",
    " \n",
    "fig, ax = plt.subplots()\n",
    "\n",
    "for i in u_labels:\n",
    "    plt.scatter(df[label == i , 0] , df[label == i , 1] , label = i, s = 50)\n",
    "plt.scatter(centroids[:,0] , centroids[:,1] , s = 10, color = 'k')\n",
    "plt.legend()\n",
    "plt.title('Silhouette Score: 0.776')\n",
    "plt.suptitle('Cluster 25')\n",
    "plt.show()\n"
   ]
  },
  {
   "cell_type": "code",
   "execution_count": null,
   "metadata": {},
   "outputs": [],
   "source": [
    "#Transform the data with PCA (2component) for visualizing clusters\n",
    "pca = PCA(2)\n",
    "df = pca.fit_transform(X26)\n",
    "\n",
    "df.shape\n",
    "\n",
    "#Initialize the class object\n",
    "kmeans = KMeans(n_clusters= 2)\n",
    " \n",
    "#predict the labels of clusters.\n",
    "label = kmeans.fit_predict(df)\n",
    "\n",
    "print(kmeans.inertia_)\n",
    "print(silhouette_score(X26, kmeans.labels_))\n",
    "\n",
    "#Getting the Centroids\n",
    "centroids = kmeans.cluster_centers_\n",
    "u_labels = np.unique(label)\n",
    " \n",
    "#plotting the results:\n",
    " \n",
    "fig, ax = plt.subplots()\n",
    "\n",
    "for i in u_labels:\n",
    "    plt.scatter(df[label == i , 0] , df[label == i , 1] , label = i, s = 50)\n",
    "plt.scatter(centroids[:,0] , centroids[:,1] , s = 10, color = 'k')\n",
    "plt.legend()\n",
    "plt.title('Silhouette Score: 0.841')\n",
    "plt.suptitle('Cluster 26')\n",
    "plt.show()\n"
   ]
  },
  {
   "cell_type": "code",
   "execution_count": null,
   "metadata": {},
   "outputs": [],
   "source": [
    "#Transform the data with PCA (2component) for visualizing clusters\n",
    "pca = PCA(2)\n",
    "df = pca.fit_transform(X27)\n",
    "\n",
    "df.shape\n",
    "\n",
    "#Initialize the class object\n",
    "kmeans = KMeans(n_clusters= 2)\n",
    " \n",
    "#predict the labels of clusters.\n",
    "label = kmeans.fit_predict(df)\n",
    "\n",
    "print(kmeans.inertia_)\n",
    "print(silhouette_score(X27, kmeans.labels_))\n",
    "\n",
    "#Getting the Centroids\n",
    "centroids = kmeans.cluster_centers_\n",
    "u_labels = np.unique(label)\n",
    " \n",
    "#plotting the results:\n",
    " \n",
    "fig, ax = plt.subplots()\n",
    "\n",
    "for i in u_labels:\n",
    "    plt.scatter(df[label == i , 0] , df[label == i , 1] , label = i, s = 50)\n",
    "plt.scatter(centroids[:,0] , centroids[:,1] , s = 10, color = 'k')\n",
    "plt.legend()\n",
    "plt.title('Silhouette Score: 0.469')\n",
    "plt.suptitle('Cluster 27')\n",
    "plt.show()\n"
   ]
  },
  {
   "cell_type": "code",
   "execution_count": null,
   "metadata": {},
   "outputs": [],
   "source": [
    "#Transform the data with PCA (2component) for visualizing clusters\n",
    "pca = PCA(2)\n",
    "df = pca.fit_transform(X28)\n",
    "\n",
    "df.shape\n",
    "\n",
    "#Initialize the class object\n",
    "kmeans = KMeans(n_clusters= 2)\n",
    " \n",
    "#predict the labels of clusters.\n",
    "label = kmeans.fit_predict(df)\n",
    "\n",
    "print(kmeans.inertia_)\n",
    "print(silhouette_score(X28, kmeans.labels_))\n",
    "\n",
    "#Getting the Centroids\n",
    "centroids = kmeans.cluster_centers_\n",
    "u_labels = np.unique(label)\n",
    " \n",
    "#plotting the results:\n",
    " \n",
    "fig, ax = plt.subplots()\n",
    "\n",
    "for i in u_labels:\n",
    "    plt.scatter(df[label == i , 0] , df[label == i , 1] , label = i, s = 50)\n",
    "plt.scatter(centroids[:,0] , centroids[:,1] , s = 10, color = 'k')\n",
    "plt.legend()\n",
    "plt.title('Silhouette Score: 0.461')\n",
    "plt.suptitle('Cluster 28')\n",
    "plt.show()\n"
   ]
  },
  {
   "cell_type": "code",
   "execution_count": null,
   "metadata": {},
   "outputs": [],
   "source": [
    "#Transform the data with PCA (2component) for visualizing clusters\n",
    "pca = PCA(2)\n",
    "df = pca.fit_transform(X29)\n",
    "\n",
    "df.shape\n",
    "\n",
    "#Initialize the class object\n",
    "kmeans = KMeans(n_clusters= 2)\n",
    " \n",
    "#predict the labels of clusters.\n",
    "label = kmeans.fit_predict(df)\n",
    "\n",
    "print(kmeans.inertia_)\n",
    "print(silhouette_score(X29, kmeans.labels_))\n",
    "\n",
    "#Getting the Centroids\n",
    "centroids = kmeans.cluster_centers_\n",
    "u_labels = np.unique(label)\n",
    " \n",
    "#plotting the results:\n",
    " \n",
    "fig, ax = plt.subplots()\n",
    "\n",
    "for i in u_labels:\n",
    "    plt.scatter(df[label == i , 0] , df[label == i , 1] , label = i, s = 50)\n",
    "plt.scatter(centroids[:,0] , centroids[:,1] , s = 10, color = 'k')\n",
    "plt.legend()\n",
    "plt.title('Silhouette Score: 0.770')\n",
    "plt.suptitle('Cluster 29')\n",
    "plt.show()\n"
   ]
  },
  {
   "cell_type": "code",
   "execution_count": null,
   "metadata": {},
   "outputs": [],
   "source": [
    "#Transform the data with PCA (2component) for visualizing clusters\n",
    "pca = PCA(2)\n",
    "df = pca.fit_transform(X30)\n",
    "\n",
    "df.shape\n",
    "\n",
    "#Initialize the class object\n",
    "kmeans = KMeans(n_clusters= 2)\n",
    " \n",
    "#predict the labels of clusters.\n",
    "label = kmeans.fit_predict(df)\n",
    "\n",
    "print(kmeans.inertia_)\n",
    "print(silhouette_score(X30, kmeans.labels_))\n",
    "\n",
    "#Getting the Centroids\n",
    "centroids = kmeans.cluster_centers_\n",
    "u_labels = np.unique(label)\n",
    " \n",
    "#plotting the results:\n",
    " \n",
    "fig, ax = plt.subplots()\n",
    "\n",
    "for i in u_labels:\n",
    "    plt.scatter(df[label == i , 0] , df[label == i , 1] , label = i, s = 50)\n",
    "plt.scatter(centroids[:,0] , centroids[:,1] , s = 10, color = 'k')\n",
    "plt.legend()\n",
    "plt.title('Silhouette Score: 0.731')\n",
    "plt.suptitle('Cluster 30')\n",
    "plt.show()\n"
   ]
  },
  {
   "cell_type": "code",
   "execution_count": null,
   "metadata": {},
   "outputs": [],
   "source": [
    "#Transform the data with PCA (2component) for visualizing clusters\n",
    "pca = PCA(2)\n",
    "df = pca.fit_transform(X31)\n",
    "\n",
    "df.shape\n",
    "\n",
    "#Initialize the class object\n",
    "kmeans = KMeans(n_clusters= 2)\n",
    " \n",
    "#predict the labels of clusters.\n",
    "label = kmeans.fit_predict(df)\n",
    "\n",
    "print(kmeans.inertia_)\n",
    "print(silhouette_score(X31, kmeans.labels_))\n",
    "\n",
    "#Getting the Centroids\n",
    "centroids = kmeans.cluster_centers_\n",
    "u_labels = np.unique(label)\n",
    " \n",
    "#plotting the results:\n",
    " \n",
    "fig, ax = plt.subplots()\n",
    "\n",
    "for i in u_labels:\n",
    "    plt.scatter(df[label == i , 0] , df[label == i , 1] , label = i, s = 50)\n",
    "plt.scatter(centroids[:,0] , centroids[:,1] , s = 10, color = 'k')\n",
    "plt.legend()\n",
    "plt.title('Silhouette Score: 0.828')\n",
    "plt.suptitle('Cluster 31')\n",
    "plt.show()\n"
   ]
  },
  {
   "cell_type": "code",
   "execution_count": null,
   "metadata": {},
   "outputs": [],
   "source": [
    "#Transform the data with PCA (2component) for visualizing clusters\n",
    "pca = PCA(2)\n",
    "df = pca.fit_transform(X32)\n",
    "\n",
    "df.shape\n",
    "\n",
    "#Initialize the class object\n",
    "kmeans = KMeans(n_clusters= 2)\n",
    " \n",
    "#predict the labels of clusters.\n",
    "label = kmeans.fit_predict(df)\n",
    "\n",
    "print(kmeans.inertia_)\n",
    "print(silhouette_score(X32, kmeans.labels_))\n",
    "\n",
    "#Getting the Centroids\n",
    "centroids = kmeans.cluster_centers_\n",
    "u_labels = np.unique(label)\n",
    " \n",
    "#plotting the results:\n",
    " \n",
    "fig, ax = plt.subplots()\n",
    "\n",
    "for i in u_labels:\n",
    "    plt.scatter(df[label == i , 0] , df[label == i , 1] , label = i, s = 50)\n",
    "plt.scatter(centroids[:,0] , centroids[:,1] , s = 10, color = 'k')\n",
    "plt.legend()\n",
    "plt.title('Silhouette Score: 0.758')\n",
    "plt.suptitle('Cluster 32')\n",
    "plt.show()\n"
   ]
  },
  {
   "cell_type": "code",
   "execution_count": null,
   "metadata": {},
   "outputs": [],
   "source": [
    "#Transform the data with PCA (2component) for visualizing clusters\n",
    "pca = PCA(2)\n",
    "df = pca.fit_transform(X33)\n",
    "\n",
    "df.shape\n",
    "\n",
    "#Initialize the class object\n",
    "kmeans = KMeans(n_clusters= 2)\n",
    " \n",
    "#predict the labels of clusters.\n",
    "label = kmeans.fit_predict(df)\n",
    "\n",
    "print(kmeans.inertia_)\n",
    "print(silhouette_score(X33, kmeans.labels_))\n",
    "\n",
    "#Getting the Centroids\n",
    "centroids = kmeans.cluster_centers_\n",
    "u_labels = np.unique(label)\n",
    " \n",
    "#plotting the results:\n",
    " \n",
    "fig, ax = plt.subplots()\n",
    "\n",
    "for i in u_labels:\n",
    "    plt.scatter(df[label == i , 0] , df[label == i , 1] , label = i, s = 50)\n",
    "plt.scatter(centroids[:,0] , centroids[:,1] , s = 10, color = 'k')\n",
    "plt.legend()\n",
    "plt.title('Silhouette Score: 0.759')\n",
    "plt.suptitle('Cluster 33')\n",
    "plt.show()\n"
   ]
  },
  {
   "cell_type": "code",
   "execution_count": null,
   "metadata": {},
   "outputs": [],
   "source": [
    "#Transform the data with PCA (2component) for visualizing clusters\n",
    "pca = PCA(2)\n",
    "df = pca.fit_transform(X34)\n",
    "\n",
    "df.shape\n",
    "\n",
    "#Initialize the class object\n",
    "kmeans = KMeans(n_clusters= 2)\n",
    " \n",
    "#predict the labels of clusters.\n",
    "label = kmeans.fit_predict(df)\n",
    "\n",
    "print(kmeans.inertia_)\n",
    "print(silhouette_score(X34, kmeans.labels_))\n",
    "\n",
    "#Getting the Centroids\n",
    "centroids = kmeans.cluster_centers_\n",
    "u_labels = np.unique(label)\n",
    " \n",
    "#plotting the results:\n",
    " \n",
    "fig, ax = plt.subplots()\n",
    "\n",
    "for i in u_labels:\n",
    "    plt.scatter(df[label == i , 0] , df[label == i , 1] , label = i, s = 50)\n",
    "plt.scatter(centroids[:,0] , centroids[:,1] , s = 10, color = 'k')\n",
    "plt.legend()\n",
    "plt.title('Silhouette Score: 0.845')\n",
    "plt.suptitle('Cluster 34')\n",
    "plt.show()\n"
   ]
  },
  {
   "cell_type": "code",
   "execution_count": null,
   "metadata": {},
   "outputs": [],
   "source": [
    "#Transform the data with PCA (2component) for visualizing clusters\n",
    "pca = PCA(2)\n",
    "df = pca.fit_transform(X35)\n",
    "\n",
    "df.shape\n",
    "\n",
    "#Initialize the class object\n",
    "kmeans = KMeans(n_clusters= 2)\n",
    " \n",
    "#predict the labels of clusters.\n",
    "label = kmeans.fit_predict(df)\n",
    "\n",
    "print(kmeans.inertia_)\n",
    "print(silhouette_score(X35, kmeans.labels_))\n",
    "\n",
    "#Getting the Centroids\n",
    "centroids = kmeans.cluster_centers_\n",
    "u_labels = np.unique(label)\n",
    " \n",
    "#plotting the results:\n",
    " \n",
    "fig, ax = plt.subplots()\n",
    "\n",
    "for i in u_labels:\n",
    "    plt.scatter(df[label == i , 0] , df[label == i , 1] , label = i, s = 50)\n",
    "plt.scatter(centroids[:,0] , centroids[:,1] , s = 10, color = 'k')\n",
    "plt.legend()\n",
    "plt.title('Silhouette Score: 0.534')\n",
    "plt.suptitle('Cluster 35')\n",
    "plt.show()\n"
   ]
  },
  {
   "cell_type": "code",
   "execution_count": null,
   "metadata": {},
   "outputs": [],
   "source": [
    "#Transform the data with PCA (2component) for visualizing clusters\n",
    "pca = PCA(2)\n",
    "df = pca.fit_transform(X36)\n",
    "\n",
    "df.shape\n",
    "\n",
    "#Initialize the class object\n",
    "kmeans = KMeans(n_clusters= 2)\n",
    " \n",
    "#predict the labels of clusters.\n",
    "label = kmeans.fit_predict(df)\n",
    "\n",
    "print(kmeans.inertia_)\n",
    "print(silhouette_score(X36, kmeans.labels_))\n",
    "\n",
    "#Getting the Centroids\n",
    "centroids = kmeans.cluster_centers_\n",
    "u_labels = np.unique(label)\n",
    " \n",
    "#plotting the results:\n",
    " \n",
    "fig, ax = plt.subplots()\n",
    "\n",
    "for i in u_labels:\n",
    "    plt.scatter(df[label == i , 0] , df[label == i , 1] , label = i, s = 50)\n",
    "plt.scatter(centroids[:,0] , centroids[:,1] , s = 10, color = 'k')\n",
    "plt.legend()\n",
    "plt.title('Silhouette Score: 0.800')\n",
    "plt.suptitle('Cluster 36')\n",
    "plt.show()\n"
   ]
  },
  {
   "cell_type": "code",
   "execution_count": null,
   "metadata": {},
   "outputs": [],
   "source": [
    "#Transform the data with PCA (2component) for visualizing clusters\n",
    "pca = PCA(2)\n",
    "df = pca.fit_transform(X37)\n",
    "\n",
    "df.shape\n",
    "\n",
    "#Initialize the class object\n",
    "kmeans = KMeans(n_clusters= 2)\n",
    " \n",
    "#predict the labels of clusters.\n",
    "label = kmeans.fit_predict(df)\n",
    "\n",
    "print(kmeans.inertia_)\n",
    "print(silhouette_score(X37, kmeans.labels_))\n",
    "\n",
    "#Getting the Centroids\n",
    "centroids = kmeans.cluster_centers_\n",
    "u_labels = np.unique(label)\n",
    " \n",
    "#plotting the results:\n",
    " \n",
    "fig, ax = plt.subplots()\n",
    "\n",
    "for i in u_labels:\n",
    "    plt.scatter(df[label == i , 0] , df[label == i , 1] , label = i, s = 50)\n",
    "plt.scatter(centroids[:,0] , centroids[:,1] , s = 10, color = 'k')\n",
    "plt.legend()\n",
    "plt.title('Silhouette Score: 0.676')\n",
    "plt.suptitle('Cluster 37')\n",
    "plt.show()\n"
   ]
  },
  {
   "cell_type": "code",
   "execution_count": null,
   "metadata": {},
   "outputs": [],
   "source": [
    "#Transform the data with PCA (2component) for visualizing clusters\n",
    "pca = PCA(2)\n",
    "df = pca.fit_transform(X38)\n",
    "\n",
    "df.shape\n",
    "\n",
    "#Initialize the class object\n",
    "kmeans = KMeans(n_clusters= 2)\n",
    " \n",
    "#predict the labels of clusters.\n",
    "label = kmeans.fit_predict(df)\n",
    "\n",
    "print(kmeans.inertia_)\n",
    "print(silhouette_score(X38, kmeans.labels_))\n",
    "\n",
    "#Getting the Centroids\n",
    "centroids = kmeans.cluster_centers_\n",
    "u_labels = np.unique(label)\n",
    " \n",
    "#plotting the results:\n",
    " \n",
    "fig, ax = plt.subplots()\n",
    "\n",
    "for i in u_labels:\n",
    "    plt.scatter(df[label == i , 0] , df[label == i , 1] , label = i, s = 50)\n",
    "plt.scatter(centroids[:,0] , centroids[:,1] , s = 10, color = 'k')\n",
    "plt.legend()\n",
    "plt.title('Silhouette Score: 0.556')\n",
    "plt.suptitle('Cluster 38')\n",
    "plt.show()\n"
   ]
  },
  {
   "cell_type": "code",
   "execution_count": null,
   "metadata": {},
   "outputs": [],
   "source": [
    "#Transform the data with PCA (2component) for visualizing clusters\n",
    "pca = PCA(2)\n",
    "df = pca.fit_transform(X39)\n",
    "\n",
    "df.shape\n",
    "\n",
    "#Initialize the class object\n",
    "kmeans = KMeans(n_clusters= 2)\n",
    " \n",
    "#predict the labels of clusters.\n",
    "label = kmeans.fit_predict(df)\n",
    "\n",
    "print(kmeans.inertia_)\n",
    "print(silhouette_score(X39, kmeans.labels_))\n",
    "\n",
    "#Getting the Centroids\n",
    "centroids = kmeans.cluster_centers_\n",
    "u_labels = np.unique(label)\n",
    " \n",
    "#plotting the results:\n",
    " \n",
    "fig, ax = plt.subplots()\n",
    "\n",
    "for i in u_labels:\n",
    "    plt.scatter(df[label == i , 0] , df[label == i , 1] , label = i, s = 50)\n",
    "plt.scatter(centroids[:,0] , centroids[:,1] , s = 10, color = 'k')\n",
    "plt.legend()\n",
    "plt.title('Silhouette Score: 0.812')\n",
    "plt.suptitle('Cluster 39')\n",
    "plt.show()\n"
   ]
  },
  {
   "cell_type": "code",
   "execution_count": null,
   "metadata": {},
   "outputs": [],
   "source": [
    "#Transform the data with PCA (2component) for visualizing clusters\n",
    "pca = PCA(2)\n",
    "df = pca.fit_transform(X40)\n",
    "\n",
    "df.shape\n",
    "\n",
    "#Initialize the class object\n",
    "kmeans = KMeans(n_clusters= 2)\n",
    " \n",
    "#predict the labels of clusters.\n",
    "label = kmeans.fit_predict(df)\n",
    "\n",
    "print(kmeans.inertia_)\n",
    "print(silhouette_score(X40, kmeans.labels_))\n",
    "\n",
    "#Getting the Centroids\n",
    "centroids = kmeans.cluster_centers_\n",
    "u_labels = np.unique(label)\n",
    " \n",
    "#plotting the results:\n",
    " \n",
    "fig, ax = plt.subplots()\n",
    "\n",
    "for i in u_labels:\n",
    "    plt.scatter(df[label == i , 0] , df[label == i , 1] , label = i, s = 50)\n",
    "plt.scatter(centroids[:,0] , centroids[:,1] , s = 10, color = 'k')\n",
    "plt.legend()\n",
    "plt.title('Silhouette Score: 0.454')\n",
    "plt.suptitle('Cluster 40')\n",
    "plt.show()\n"
   ]
  },
  {
   "cell_type": "code",
   "execution_count": null,
   "metadata": {},
   "outputs": [],
   "source": [
    "#Transform the data with PCA (2component) for visualizing clusters\n",
    "pca = PCA(2)\n",
    "df = pca.fit_transform(X41)\n",
    "\n",
    "df.shape\n",
    "\n",
    "#Initialize the class object\n",
    "kmeans = KMeans(n_clusters= 2)\n",
    " \n",
    "#predict the labels of clusters.\n",
    "label = kmeans.fit_predict(df)\n",
    "\n",
    "print(kmeans.inertia_)\n",
    "print(silhouette_score(X41, kmeans.labels_))\n",
    "\n",
    "#Getting the Centroids\n",
    "centroids = kmeans.cluster_centers_\n",
    "u_labels = np.unique(label)\n",
    " \n",
    "#plotting the results:\n",
    " \n",
    "fig, ax = plt.subplots()\n",
    "\n",
    "for i in u_labels:\n",
    "    plt.scatter(df[label == i , 0] , df[label == i , 1] , label = i, s = 50)\n",
    "plt.scatter(centroids[:,0] , centroids[:,1] , s = 10, color = 'k')\n",
    "plt.legend()\n",
    "plt.title('Silhouette Score: 0.817')\n",
    "plt.suptitle('Cluster 41')\n",
    "plt.show()\n"
   ]
  },
  {
   "cell_type": "code",
   "execution_count": null,
   "metadata": {},
   "outputs": [],
   "source": [
    "#Transform the data with PCA (2component) for visualizing clusters\n",
    "pca = PCA(2)\n",
    "df = pca.fit_transform(X42)\n",
    "\n",
    "df.shape\n",
    "\n",
    "#Initialize the class object\n",
    "kmeans = KMeans(n_clusters= 2)\n",
    " \n",
    "#predict the labels of clusters.\n",
    "label = kmeans.fit_predict(df)\n",
    "\n",
    "print(kmeans.inertia_)\n",
    "print(silhouette_score(X42, kmeans.labels_))\n",
    "\n",
    "#Getting the Centroids\n",
    "centroids = kmeans.cluster_centers_\n",
    "u_labels = np.unique(label)\n",
    " \n",
    "#plotting the results:\n",
    " \n",
    "fig, ax = plt.subplots()\n",
    "\n",
    "for i in u_labels:\n",
    "    plt.scatter(df[label == i , 0] , df[label == i , 1] , label = i, s = 50)\n",
    "plt.scatter(centroids[:,0] , centroids[:,1] , s = 10, color = 'k')\n",
    "plt.legend()\n",
    "plt.title('Silhouette Score: 0.641')\n",
    "plt.suptitle('Cluster 42')\n",
    "plt.show()\n"
   ]
  },
  {
   "cell_type": "code",
   "execution_count": null,
   "metadata": {},
   "outputs": [],
   "source": [
    "#Transform the data with PCA (2component) for visualizing clusters\n",
    "pca = PCA(2)\n",
    "df = pca.fit_transform(X43)\n",
    "\n",
    "df.shape\n",
    "\n",
    "#Initialize the class object\n",
    "kmeans = KMeans(n_clusters= 2)\n",
    " \n",
    "#predict the labels of clusters.\n",
    "label = kmeans.fit_predict(df)\n",
    "\n",
    "print(kmeans.inertia_)\n",
    "print(silhouette_score(X43, kmeans.labels_))\n",
    "\n",
    "#Getting the Centroids\n",
    "centroids = kmeans.cluster_centers_\n",
    "u_labels = np.unique(label)\n",
    " \n",
    "#plotting the results:\n",
    " \n",
    "fig, ax = plt.subplots()\n",
    "\n",
    "for i in u_labels:\n",
    "    plt.scatter(df[label == i , 0] , df[label == i , 1] , label = i, s = 50)\n",
    "plt.scatter(centroids[:,0] , centroids[:,1] , s = 10, color = 'k')\n",
    "plt.legend()\n",
    "plt.title('Silhouette Score: 0.898')\n",
    "plt.suptitle('Cluster 43')\n",
    "plt.show()\n"
   ]
  },
  {
   "cell_type": "code",
   "execution_count": null,
   "metadata": {},
   "outputs": [],
   "source": [
    "#Transform the data with PCA (2component) for visualizing clusters\n",
    "pca = PCA(2)\n",
    "df = pca.fit_transform(X44)\n",
    "\n",
    "df.shape\n",
    "\n",
    "#Initialize the class object\n",
    "kmeans = KMeans(n_clusters= 2)\n",
    " \n",
    "#predict the labels of clusters.\n",
    "label = kmeans.fit_predict(df)\n",
    "\n",
    "print(kmeans.inertia_)\n",
    "print(silhouette_score(X44, kmeans.labels_))\n",
    "\n",
    "#Getting the Centroids\n",
    "centroids = kmeans.cluster_centers_\n",
    "u_labels = np.unique(label)\n",
    " \n",
    "#plotting the results:\n",
    " \n",
    "fig, ax = plt.subplots()\n",
    "\n",
    "for i in u_labels:\n",
    "    plt.scatter(df[label == i , 0] , df[label == i , 1] , label = i, s = 50)\n",
    "plt.scatter(centroids[:,0] , centroids[:,1] , s = 10, color = 'k')\n",
    "plt.legend()\n",
    "plt.title('Silhouette Score: 0.833')\n",
    "plt.suptitle('Cluster 44')\n",
    "plt.show()\n"
   ]
  },
  {
   "cell_type": "code",
   "execution_count": null,
   "metadata": {},
   "outputs": [],
   "source": [
    "#Transform the data with PCA (2component) for visualizing clusters\n",
    "pca = PCA(2)\n",
    "df = pca.fit_transform(X45)\n",
    "\n",
    "df.shape\n",
    "\n",
    "#Initialize the class object\n",
    "kmeans = KMeans(n_clusters= 2)\n",
    " \n",
    "#predict the labels of clusters.\n",
    "label = kmeans.fit_predict(df)\n",
    "\n",
    "print(kmeans.inertia_)\n",
    "print(silhouette_score(X45, kmeans.labels_))\n",
    "\n",
    "#Getting the Centroids\n",
    "centroids = kmeans.cluster_centers_\n",
    "u_labels = np.unique(label)\n",
    " \n",
    "#plotting the results:\n",
    " \n",
    "fig, ax = plt.subplots()\n",
    "\n",
    "for i in u_labels:\n",
    "    plt.scatter(df[label == i , 0] , df[label == i , 1] , label = i, s = 50)\n",
    "plt.scatter(centroids[:,0] , centroids[:,1] , s = 10, color = 'k')\n",
    "plt.legend()\n",
    "plt.title('Silhouette Score: 0.721')\n",
    "plt.suptitle('Cluster 45')\n",
    "plt.show()\n"
   ]
  },
  {
   "cell_type": "code",
   "execution_count": null,
   "metadata": {},
   "outputs": [],
   "source": [
    "#Transform the data with PCA (2component) for visualizing clusters\n",
    "pca = PCA(2)\n",
    "df = pca.fit_transform(X46)\n",
    "\n",
    "df.shape\n",
    "\n",
    "#Initialize the class object\n",
    "kmeans = KMeans(n_clusters= 2)\n",
    " \n",
    "#predict the labels of clusters.\n",
    "label = kmeans.fit_predict(df)\n",
    "\n",
    "print(kmeans.inertia_)\n",
    "print(silhouette_score(X46, kmeans.labels_))\n",
    "\n",
    "#Getting the Centroids\n",
    "centroids = kmeans.cluster_centers_\n",
    "u_labels = np.unique(label)\n",
    " \n",
    "#plotting the results:\n",
    " \n",
    "fig, ax = plt.subplots()\n",
    "\n",
    "for i in u_labels:\n",
    "    plt.scatter(df[label == i , 0] , df[label == i , 1] , label = i, s = 50)\n",
    "plt.scatter(centroids[:,0] , centroids[:,1] , s = 10, color = 'k')\n",
    "plt.legend()\n",
    "plt.title('Silhouette Score: 0.426')\n",
    "plt.suptitle('Cluster 46')\n",
    "plt.show()\n"
   ]
  },
  {
   "cell_type": "code",
   "execution_count": null,
   "metadata": {},
   "outputs": [],
   "source": [
    "#Transform the data with PCA (2component) for visualizing clusters\n",
    "pca = PCA(2)\n",
    "df = pca.fit_transform(X47)\n",
    "\n",
    "df.shape\n",
    "\n",
    "#Initialize the class object\n",
    "kmeans = KMeans(n_clusters= 2)\n",
    " \n",
    "#predict the labels of clusters.\n",
    "label = kmeans.fit_predict(df)\n",
    "\n",
    "print(kmeans.inertia_)\n",
    "print(silhouette_score(X47, kmeans.labels_))\n",
    "\n",
    "#Getting the Centroids\n",
    "centroids = kmeans.cluster_centers_\n",
    "u_labels = np.unique(label)\n",
    " \n",
    "#plotting the results:\n",
    " \n",
    "fig, ax = plt.subplots()\n",
    "\n",
    "for i in u_labels:\n",
    "    plt.scatter(df[label == i , 0] , df[label == i , 1] , label = i, s = 50)\n",
    "plt.scatter(centroids[:,0] , centroids[:,1] , s = 10, color = 'k')\n",
    "plt.legend()\n",
    "plt.title('Silhouette Score: 0.390')\n",
    "plt.suptitle('Cluster 47')\n",
    "plt.show()\n"
   ]
  },
  {
   "cell_type": "code",
   "execution_count": null,
   "metadata": {},
   "outputs": [],
   "source": [
    "#Transform the data with PCA (2component) for visualizing clusters\n",
    "pca = PCA(2)\n",
    "df = pca.fit_transform(X48)\n",
    "\n",
    "df.shape\n",
    "\n",
    "#Initialize the class object\n",
    "kmeans = KMeans(n_clusters= 2)\n",
    " \n",
    "#predict the labels of clusters.\n",
    "label = kmeans.fit_predict(df)\n",
    "\n",
    "print(kmeans.inertia_)\n",
    "print(silhouette_score(X48, kmeans.labels_))\n",
    "\n",
    "#Getting the Centroids\n",
    "centroids = kmeans.cluster_centers_\n",
    "u_labels = np.unique(label)\n",
    " \n",
    "#plotting the results:\n",
    " \n",
    "fig, ax = plt.subplots()\n",
    "\n",
    "for i in u_labels:\n",
    "    plt.scatter(df[label == i , 0] , df[label == i , 1] , label = i, s = 50)\n",
    "plt.scatter(centroids[:,0] , centroids[:,1] , s = 10, color = 'k')\n",
    "plt.legend()\n",
    "plt.title('Silhouette Score: 0.536')\n",
    "plt.suptitle('Cluster 48')\n",
    "plt.show()\n"
   ]
  },
  {
   "cell_type": "code",
   "execution_count": null,
   "metadata": {},
   "outputs": [],
   "source": [
    "#Transform the data with PCA (2component) for visualizing clusters\n",
    "pca = PCA(2)\n",
    "df = pca.fit_transform(X49)\n",
    "\n",
    "df.shape\n",
    "\n",
    "#Initialize the class object\n",
    "kmeans = KMeans(n_clusters= 2)\n",
    " \n",
    "#predict the labels of clusters.\n",
    "label = kmeans.fit_predict(df)\n",
    "\n",
    "print(kmeans.inertia_)\n",
    "print(silhouette_score(X49, kmeans.labels_))\n",
    "\n",
    "#Getting the Centroids\n",
    "centroids = kmeans.cluster_centers_\n",
    "u_labels = np.unique(label)\n",
    " \n",
    "#plotting the results:\n",
    " \n",
    "fig, ax = plt.subplots()\n",
    "\n",
    "for i in u_labels:\n",
    "    plt.scatter(df[label == i , 0] , df[label == i , 1] , label = i, s = 50)\n",
    "plt.scatter(centroids[:,0] , centroids[:,1] , s = 10, color = 'k')\n",
    "plt.legend()\n",
    "plt.title('Silhouette Score: 0.684')\n",
    "plt.suptitle('Cluster 49')\n",
    "plt.show()\n"
   ]
  },
  {
   "cell_type": "code",
   "execution_count": null,
   "metadata": {},
   "outputs": [],
   "source": [
    "#Transform the data with PCA (2component) for visualizing clusters\n",
    "pca = PCA(2)\n",
    "df = pca.fit_transform(X50)\n",
    "\n",
    "df.shape\n",
    "\n",
    "#Initialize the class object\n",
    "kmeans = KMeans(n_clusters= 2)\n",
    " \n",
    "#predict the labels of clusters.\n",
    "label = kmeans.fit_predict(df)\n",
    "\n",
    "print(kmeans.inertia_)\n",
    "print(silhouette_score(X50, kmeans.labels_))\n",
    "\n",
    "#Getting the Centroids\n",
    "centroids = kmeans.cluster_centers_\n",
    "u_labels = np.unique(label)\n",
    " \n",
    "#plotting the results:\n",
    " \n",
    "fig, ax = plt.subplots()\n",
    "\n",
    "for i in u_labels:\n",
    "    plt.scatter(df[label == i , 0] , df[label == i , 1] , label = i, s = 50)\n",
    "plt.scatter(centroids[:,0] , centroids[:,1] , s = 10, color = 'k')\n",
    "plt.legend()\n",
    "plt.title('Silhouette Score: 0.725')\n",
    "plt.suptitle('Cluster 50')\n",
    "plt.show()\n"
   ]
  },
  {
   "cell_type": "code",
   "execution_count": null,
   "metadata": {},
   "outputs": [],
   "source": [
    "#Transform the data with PCA (2component) for visualizing clusters\n",
    "pca = PCA(2)\n",
    "df = pca.fit_transform(X51)\n",
    "\n",
    "df.shape\n",
    "\n",
    "#Initialize the class object\n",
    "kmeans = KMeans(n_clusters= 2)\n",
    " \n",
    "#predict the labels of clusters.\n",
    "label = kmeans.fit_predict(df)\n",
    "\n",
    "print(kmeans.inertia_)\n",
    "print(silhouette_score(X51, kmeans.labels_))\n",
    "\n",
    "#Getting the Centroids\n",
    "centroids = kmeans.cluster_centers_\n",
    "u_labels = np.unique(label)\n",
    " \n",
    "#plotting the results:\n",
    " \n",
    "fig, ax = plt.subplots()\n",
    "\n",
    "for i in u_labels:\n",
    "    plt.scatter(df[label == i , 0] , df[label == i , 1] , label = i, s = 50)\n",
    "plt.scatter(centroids[:,0] , centroids[:,1] , s = 10, color = 'k')\n",
    "plt.legend()\n",
    "plt.title('Silhouette Score: 0.854')\n",
    "plt.suptitle('Cluster 51')\n",
    "plt.show()\n"
   ]
  },
  {
   "cell_type": "code",
   "execution_count": null,
   "metadata": {},
   "outputs": [],
   "source": [
    "#Transform the data with PCA (2component) for visualizing clusters\n",
    "pca = PCA(2)\n",
    "df = pca.fit_transform(X52)\n",
    "\n",
    "df.shape\n",
    "\n",
    "#Initialize the class object\n",
    "kmeans = KMeans(n_clusters= 2)\n",
    " \n",
    "#predict the labels of clusters.\n",
    "label = kmeans.fit_predict(df)\n",
    "\n",
    "print(kmeans.inertia_)\n",
    "print(silhouette_score(X52, kmeans.labels_))\n",
    "\n",
    "#Getting the Centroids\n",
    "centroids = kmeans.cluster_centers_\n",
    "u_labels = np.unique(label)\n",
    " \n",
    "#plotting the results:\n",
    " \n",
    "fig, ax = plt.subplots()\n",
    "\n",
    "for i in u_labels:\n",
    "    plt.scatter(df[label == i , 0] , df[label == i , 1] , label = i, s = 50)\n",
    "plt.scatter(centroids[:,0] , centroids[:,1] , s = 10, color = 'k')\n",
    "plt.legend()\n",
    "plt.title('Silhouette Score: 0.826')\n",
    "plt.suptitle('Cluster 52')\n",
    "plt.show()\n"
   ]
  },
  {
   "cell_type": "code",
   "execution_count": null,
   "metadata": {},
   "outputs": [],
   "source": [
    "#Transform the data with PCA (2component) for visualizing clusters\n",
    "pca = PCA(2)\n",
    "df = pca.fit_transform(X53)\n",
    "\n",
    "df.shape\n",
    "\n",
    "#Initialize the class object\n",
    "kmeans = KMeans(n_clusters= 2)\n",
    " \n",
    "#predict the labels of clusters.\n",
    "label = kmeans.fit_predict(df)\n",
    "\n",
    "print(kmeans.inertia_)\n",
    "print(silhouette_score(X53, kmeans.labels_))\n",
    "\n",
    "#Getting the Centroids\n",
    "centroids = kmeans.cluster_centers_\n",
    "u_labels = np.unique(label)\n",
    " \n",
    "#plotting the results:\n",
    " \n",
    "fig, ax = plt.subplots()\n",
    "\n",
    "for i in u_labels:\n",
    "    plt.scatter(df[label == i , 0] , df[label == i , 1] , label = i, s = 50)\n",
    "plt.scatter(centroids[:,0] , centroids[:,1] , s = 10, color = 'k')\n",
    "plt.legend()\n",
    "plt.title('Silhouette Score: 0.922')\n",
    "plt.suptitle('Cluster 53')\n",
    "plt.show()\n"
   ]
  },
  {
   "cell_type": "code",
   "execution_count": null,
   "metadata": {},
   "outputs": [],
   "source": [
    "#Transform the data with PCA (2component) for visualizing clusters\n",
    "pca = PCA(2)\n",
    "df = pca.fit_transform(X54)\n",
    "\n",
    "df.shape\n",
    "\n",
    "#Initialize the class object\n",
    "kmeans = KMeans(n_clusters= 2)\n",
    " \n",
    "#predict the labels of clusters.\n",
    "label = kmeans.fit_predict(df)\n",
    "\n",
    "print(kmeans.inertia_)\n",
    "print(silhouette_score(X54, kmeans.labels_))\n",
    "\n",
    "#Getting the Centroids\n",
    "centroids = kmeans.cluster_centers_\n",
    "u_labels = np.unique(label)\n",
    " \n",
    "#plotting the results:\n",
    " \n",
    "fig, ax = plt.subplots()\n",
    "\n",
    "for i in u_labels:\n",
    "    plt.scatter(df[label == i , 0] , df[label == i , 1] , label = i, s = 50)\n",
    "plt.scatter(centroids[:,0] , centroids[:,1] , s = 10, color = 'k')\n",
    "plt.legend()\n",
    "plt.title('Silhouette Score: 0.776')\n",
    "plt.suptitle('Cluster 54')\n",
    "plt.show()\n"
   ]
  },
  {
   "cell_type": "code",
   "execution_count": null,
   "metadata": {},
   "outputs": [],
   "source": [
    "#Transform the data with PCA (2component) for visualizing clusters\n",
    "pca = PCA(2)\n",
    "df = pca.fit_transform(X55)\n",
    "\n",
    "df.shape\n",
    "\n",
    "#Initialize the class object\n",
    "kmeans = KMeans(n_clusters= 2)\n",
    " \n",
    "#predict the labels of clusters.\n",
    "label = kmeans.fit_predict(df)\n",
    "\n",
    "print(kmeans.inertia_)\n",
    "print(silhouette_score(X55, kmeans.labels_))\n",
    "\n",
    "#Getting the Centroids\n",
    "centroids = kmeans.cluster_centers_\n",
    "u_labels = np.unique(label)\n",
    " \n",
    "#plotting the results:\n",
    " \n",
    "fig, ax = plt.subplots()\n",
    "\n",
    "for i in u_labels:\n",
    "    plt.scatter(df[label == i , 0] , df[label == i , 1] , label = i, s = 50)\n",
    "plt.scatter(centroids[:,0] , centroids[:,1] , s = 10, color = 'k')\n",
    "plt.legend()\n",
    "plt.title('Silhouette Score: 0.620')\n",
    "plt.suptitle('Cluster 55')\n",
    "plt.show()\n"
   ]
  },
  {
   "cell_type": "code",
   "execution_count": null,
   "metadata": {},
   "outputs": [],
   "source": [
    "#Transform the data with PCA (2component) for visualizing clusters\n",
    "pca = PCA(2)\n",
    "df = pca.fit_transform(X56)\n",
    "\n",
    "df.shape\n",
    "\n",
    "#Initialize the class object\n",
    "kmeans = KMeans(n_clusters= 2)\n",
    " \n",
    "#predict the labels of clusters.\n",
    "label = kmeans.fit_predict(df)\n",
    "\n",
    "print(kmeans.inertia_)\n",
    "print(silhouette_score(X56, kmeans.labels_))\n",
    "\n",
    "#Getting the Centroids\n",
    "centroids = kmeans.cluster_centers_\n",
    "u_labels = np.unique(label)\n",
    " \n",
    "#plotting the results:\n",
    " \n",
    "fig, ax = plt.subplots()\n",
    "\n",
    "for i in u_labels:\n",
    "    plt.scatter(df[label == i , 0] , df[label == i , 1] , label = i, s = 50)\n",
    "plt.scatter(centroids[:,0] , centroids[:,1] , s = 10, color = 'k')\n",
    "plt.legend()\n",
    "plt.title('Silhouette Score: 0.606')\n",
    "plt.suptitle('Cluster 56')\n",
    "plt.show()\n"
   ]
  },
  {
   "cell_type": "code",
   "execution_count": null,
   "metadata": {},
   "outputs": [],
   "source": [
    "#Transform the data with PCA (2component) for visualizing clusters\n",
    "pca = PCA(2)\n",
    "df = pca.fit_transform(X57)\n",
    "\n",
    "df.shape\n",
    "\n",
    "#Initialize the class object\n",
    "kmeans = KMeans(n_clusters= 2)\n",
    " \n",
    "#predict the labels of clusters.\n",
    "label = kmeans.fit_predict(df)\n",
    "\n",
    "print(kmeans.inertia_)\n",
    "print(silhouette_score(X57, kmeans.labels_))\n",
    "\n",
    "#Getting the Centroids\n",
    "centroids = kmeans.cluster_centers_\n",
    "u_labels = np.unique(label)\n",
    " \n",
    "#plotting the results:\n",
    " \n",
    "fig, ax = plt.subplots()\n",
    "\n",
    "for i in u_labels:\n",
    "    plt.scatter(df[label == i , 0] , df[label == i , 1] , label = i, s = 50)\n",
    "plt.scatter(centroids[:,0] , centroids[:,1] , s = 10, color = 'k')\n",
    "plt.legend()\n",
    "plt.title('Silhouette Score: 0.836')\n",
    "plt.suptitle('Cluster 57')\n",
    "plt.show()\n"
   ]
  },
  {
   "cell_type": "code",
   "execution_count": null,
   "metadata": {},
   "outputs": [],
   "source": [
    "#Transform the data with PCA (2component) for visualizing clusters\n",
    "pca = PCA(2)\n",
    "df = pca.fit_transform(X58)\n",
    "\n",
    "df.shape\n",
    "\n",
    "#Initialize the class object\n",
    "kmeans = KMeans(n_clusters= 2)\n",
    " \n",
    "#predict the labels of clusters.\n",
    "label = kmeans.fit_predict(df)\n",
    "\n",
    "print(kmeans.inertia_)\n",
    "print(silhouette_score(X58, kmeans.labels_))\n",
    "\n",
    "#Getting the Centroids\n",
    "centroids = kmeans.cluster_centers_\n",
    "u_labels = np.unique(label)\n",
    " \n",
    "#plotting the results:\n",
    " \n",
    "fig, ax = plt.subplots()\n",
    "\n",
    "for i in u_labels:\n",
    "    plt.scatter(df[label == i , 0] , df[label == i , 1] , label = i, s = 50)\n",
    "plt.scatter(centroids[:,0] , centroids[:,1] , s = 10, color = 'k')\n",
    "plt.legend()\n",
    "plt.title('Silhouette Score: 0.608')\n",
    "plt.suptitle('Cluster 58')\n",
    "plt.show()\n"
   ]
  },
  {
   "cell_type": "code",
   "execution_count": null,
   "metadata": {},
   "outputs": [],
   "source": [
    "#Transform the data with PCA (2component) for visualizing clusters\n",
    "pca = PCA(2)\n",
    "df = pca.fit_transform(X59)\n",
    "\n",
    "df.shape\n",
    "\n",
    "#Initialize the class object\n",
    "kmeans = KMeans(n_clusters= 2)\n",
    " \n",
    "#predict the labels of clusters.\n",
    "label = kmeans.fit_predict(df)\n",
    "\n",
    "print(kmeans.inertia_)\n",
    "print(silhouette_score(X59, kmeans.labels_))\n",
    "\n",
    "#Getting the Centroids\n",
    "centroids = kmeans.cluster_centers_\n",
    "u_labels = np.unique(label)\n",
    " \n",
    "#plotting the results:\n",
    " \n",
    "fig, ax = plt.subplots()\n",
    "\n",
    "for i in u_labels:\n",
    "    plt.scatter(df[label == i , 0] , df[label == i , 1] , label = i, s = 50)\n",
    "plt.scatter(centroids[:,0] , centroids[:,1] , s = 10, color = 'k')\n",
    "plt.legend()\n",
    "plt.title('Silhouette Score: 0.849')\n",
    "plt.suptitle('Cluster 59')\n",
    "plt.show()\n"
   ]
  },
  {
   "cell_type": "code",
   "execution_count": null,
   "metadata": {},
   "outputs": [],
   "source": [
    "#Transform the data with PCA (2component) for visualizing clusters\n",
    "pca = PCA(2)\n",
    "df = pca.fit_transform(X60)\n",
    "\n",
    "df.shape\n",
    "\n",
    "#Initialize the class object\n",
    "kmeans = KMeans(n_clusters= 2)\n",
    " \n",
    "#predict the labels of clusters.\n",
    "label = kmeans.fit_predict(df)\n",
    "\n",
    "print(kmeans.inertia_)\n",
    "print(silhouette_score(X60, kmeans.labels_))\n",
    "\n",
    "#Getting the Centroids\n",
    "centroids = kmeans.cluster_centers_\n",
    "u_labels = np.unique(label)\n",
    " \n",
    "#plotting the results:\n",
    " \n",
    "fig, ax = plt.subplots()\n",
    "\n",
    "for i in u_labels:\n",
    "    plt.scatter(df[label == i , 0] , df[label == i , 1] , label = i, s = 50)\n",
    "plt.scatter(centroids[:,0] , centroids[:,1] , s = 10, color = 'k')\n",
    "plt.legend()\n",
    "plt.title('Silhouette Score: 0.819')\n",
    "plt.suptitle('Cluster 60')\n",
    "plt.show()\n"
   ]
  },
  {
   "cell_type": "code",
   "execution_count": null,
   "metadata": {},
   "outputs": [],
   "source": []
  }
 ],
 "metadata": {
  "kernelspec": {
   "display_name": "Python 3",
   "language": "python",
   "name": "python3"
  },
  "language_info": {
   "codemirror_mode": {
    "name": "ipython",
    "version": 3
   },
   "file_extension": ".py",
   "mimetype": "text/x-python",
   "name": "python",
   "nbconvert_exporter": "python",
   "pygments_lexer": "ipython3",
   "version": "3.8.3"
  }
 },
 "nbformat": 4,
 "nbformat_minor": 4
}
