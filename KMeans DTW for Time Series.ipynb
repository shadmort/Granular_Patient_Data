{
 "cells": [
  {
   "cell_type": "markdown",
   "metadata": {},
   "source": [
    "This is code for KMeans Clustering of time series data using Dynamic Time Warping (DTW). Patient vitals, labs and dx were combined from ICU data. Each .csv file is by hour and each patient has 4 time points (15-minute intervals) within that hour where data is recorded."
   ]
  },
  {
   "cell_type": "code",
   "execution_count": null,
   "metadata": {},
   "outputs": [],
   "source": [
    "# import packages\n",
    "\n",
    "import os\n",
    "import pandas as pd\n",
    "from glob import glob \n",
    "import numpy as np\n",
    "import time\n",
    "import math\n",
    "import impyute as impy\n",
    "\n",
    "from tslearn.utils import to_time_series\n",
    "from tslearn.clustering import TimeSeriesKMeans, silhouette_score\n",
    "from tslearn.preprocessing import TimeSeriesScalerMeanVariance\n",
    "from tslearn import metrics\n",
    "\n",
    "from sklearn.cluster import KMeans\n",
    "\n",
    "import matplotlib.pyplot as plt\n"
   ]
  },
  {
   "cell_type": "code",
   "execution_count": null,
   "metadata": {},
   "outputs": [],
   "source": [
    "# read and append vitals data\n",
    "\n",
    "os.chdir(\"/path\")\n",
    "strain = glob(\"*.csv\")\n",
    "\n",
    "vitals = pd.DataFrame()\n",
    "\n",
    "for filename in strain:\n",
    "    df = pd.read_csv(filename) \n",
    "    vitals = vitals.append(df)"
   ]
  },
  {
   "cell_type": "code",
   "execution_count": null,
   "metadata": {},
   "outputs": [],
   "source": [
    "#vitals.to_csv('/path/vitals.csv') # write to .csv\n",
    "#vitals = pd.read_csv('/path/vitals.csv') # upload\n",
    "vitals.shape"
   ]
  },
  {
   "cell_type": "code",
   "execution_count": null,
   "metadata": {},
   "outputs": [],
   "source": [
    "## read and append labs data\n",
    "\n",
    "os.chdir(\"/path\")\n",
    "strain = glob(\"*.csv\")\n",
    "\n",
    "labs = pd.DataFrame()\n",
    "\n",
    "for filename in strain:\n",
    "    df = pd.read_csv(filename)\n",
    "    labs = labs.append(df)"
   ]
  },
  {
   "cell_type": "code",
   "execution_count": null,
   "metadata": {},
   "outputs": [],
   "source": [
    "#labs.to_csv('/path/labs.csv')\n",
    "#labs = pd.read_csv('/path/labs.csv')\n",
    "labs.shape"
   ]
  },
  {
   "cell_type": "code",
   "execution_count": null,
   "metadata": {},
   "outputs": [],
   "source": [
    "# read and append dx data\n",
    "\n",
    "os.chdir(\"/path\")\n",
    "strain = glob(\"*.csv\")\n",
    "\n",
    "dx = pd.DataFrame()\n",
    "\n",
    "for filename in strain:\n",
    "    df = pd.read_csv(filename)\n",
    "    dx = dx.append(df)"
   ]
  },
  {
   "cell_type": "code",
   "execution_count": null,
   "metadata": {},
   "outputs": [],
   "source": [
    "#dx.to_csv('/path/dx.csv')\n",
    "#dx = pd.read_csv('/path/dx.csv')\n",
    "dx.shape"
   ]
  },
  {
   "cell_type": "code",
   "execution_count": null,
   "metadata": {},
   "outputs": [],
   "source": [
    "# merge data for KMeans clustering and prediction\n",
    "\n",
    "vl = pd.merge(vitals, labs, on = ['feature1', 'feature2', 'feature3'], how = 'left')\n",
    "X = pd.merge(vl, dx, on = ['feature1', 'feature2'], how = 'left')"
   ]
  },
  {
   "cell_type": "code",
   "execution_count": null,
   "metadata": {},
   "outputs": [],
   "source": [
    "#X.to_csv('/path/X.csv')\n",
    "#X = pd.read_csv('/path/X.csv')\n",
    "X.shape"
   ]
  },
  {
   "cell_type": "code",
   "execution_count": null,
   "metadata": {},
   "outputs": [],
   "source": [
    "# pre-format dataframe\n",
    "\n",
    "# unsupervised\n",
    "X.drop_duplicates(inplace = True)\n",
    "X.drop(columns = ['a', 'b', 'c'], inplace = True)\n",
    "X.astype({'d': 'int', 'e': 'int', 'f': 'int'})\n",
    "X.dropna(axis = 1, thresh = n, inplace = True)\n",
    "X = X.sort_values(by = ['feature1', 'feature2'])\n",
    "\n",
    "# make X and y dataset split\n",
    "#y = X.pop('label')"
   ]
  },
  {
   "cell_type": "code",
   "execution_count": null,
   "metadata": {},
   "outputs": [],
   "source": [
    "# prepare for imputation\n",
    "\n",
    "Xv = X.values # make an array\n",
    "Xv = impy.median(Xv)\n",
    "\n",
    "# convert back to dataframe\n",
    "X = pd.DataFrame(Xv, columns = X.columns.values.tolist())\n",
    "X.fillna(method='ffill')"
   ]
  },
  {
   "cell_type": "code",
   "execution_count": null,
   "metadata": {},
   "outputs": [],
   "source": [
    "# make 3D [pt,ts,d] numpy array for KMeans\n",
    "\n",
    "km_arr=np.zeros((patient, time_series, features))\n",
    "\n",
    "i = 0\n",
    "j = 0\n",
    "k = time_seris\n",
    "for x in range(1000):\n",
    "    km_arr[i] = X.iloc[range(j, k)].values\n",
    "    i += 1\n",
    "    j += time_series\n",
    "    k += time_series"
   ]
  },
  {
   "cell_type": "code",
   "execution_count": null,
   "metadata": {},
   "outputs": [],
   "source": [
    "#DTW K-means sqrt n clusters\n",
    "\n",
    "# timer\n",
    "start = time.time()\n",
    "\n",
    "#K-means\n",
    "km = TimeSeriesKMeans(n_clusters=30, metric = 'dtw', verbose=True, random_state=42)\n",
    "\n",
    "y_pred = km.fit_predict(km_arr)\n",
    "\n",
    "# timer\n",
    "end = time.time()\n",
    "print(end - start)"
   ]
  },
  {
   "cell_type": "code",
   "execution_count": null,
   "metadata": {},
   "outputs": [],
   "source": [
    "# Unique counts per cluster\n",
    "\n",
    "unique, counts = np.unique(y_pred, return_counts=True)\n",
    "print(unique, counts)"
   ]
  },
  {
   "cell_type": "code",
   "execution_count": null,
   "metadata": {},
   "outputs": [],
   "source": [
    "# labels\n",
    "\n",
    "y_pred"
   ]
  },
  {
   "cell_type": "code",
   "execution_count": null,
   "metadata": {},
   "outputs": [],
   "source": [
    "# visualize the clusters\n",
    "\n",
    "sz = km_arr.shape[1]\n",
    "\n",
    "plt.figure()\n",
    "for yi in range(30):\n",
    "    plt.subplot(10, 3, yi + 1)\n",
    "    for xx in km_arr[y_pred == yi]:\n",
    "        plt.plot(xx.ravel(), \"k-\", alpha=.2)\n",
    "    plt.plot(km.cluster_centers_[yi].ravel(), \"r-\")\n",
    "    plt.xlim(0, sz)\n",
    "    plt.ylim(-4, 4)\n",
    "    plt.text(0.55, 0.85,'Cluster %d' % (yi + 1),\n",
    "             transform=plt.gca().transAxes)\n",
    "    if yi == 1:\n",
    "        plt.title(\"Euclidean $k$-means\")"
   ]
  },
  {
   "cell_type": "code",
   "execution_count": null,
   "metadata": {},
   "outputs": [],
   "source": [
    "# silhouette_score\n",
    "\n",
    "silhouette_score(km_arr, km.labels_)"
   ]
  }
 ],
 "metadata": {
  "kernelspec": {
   "display_name": "Python 3",
   "language": "python",
   "name": "python3"
  },
  "language_info": {
   "codemirror_mode": {
    "name": "ipython",
    "version": 3
   },
   "file_extension": ".py",
   "mimetype": "text/x-python",
   "name": "python",
   "nbconvert_exporter": "python",
   "pygments_lexer": "ipython3",
   "version": "3.8.3"
  }
 },
 "nbformat": 4,
 "nbformat_minor": 4
}
