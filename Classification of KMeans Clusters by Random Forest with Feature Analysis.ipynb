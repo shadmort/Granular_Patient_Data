{
 "cells": [
  {
   "cell_type": "markdown",
   "metadata": {},
   "source": [
    "## SHAP ANALYSIS"
   ]
  },
  {
   "cell_type": "code",
   "execution_count": null,
   "metadata": {},
   "outputs": [],
   "source": [
    "import pandas as pd\n",
    "import numpy as np\n",
    "import impyute as impy\n",
    "\n",
    "from collections import Counter\n",
    "\n",
    "from sklearn.cluster import KMeans\n",
    "from sklearn.metrics import silhouette_score, f1_score, roc_curve, roc_auc_score\n",
    "from sklearn.decomposition import PCA\n",
    "from sklearn.preprocessing import StandardScaler, label_binarize\n",
    "from sklearn.ensemble import RandomForestClassifier\n",
    "from sklearn.pipeline import Pipeline\n",
    "from sklearn.model_selection import RandomizedSearchCV, cross_val_predict\n",
    "\n",
    "from imblearn.under_sampling import RandomUnderSampler\n",
    "\n",
    "import matplotlib.pyplot as plt\n",
    "\n",
    "import shap\n",
    "shap.initjs()"
   ]
  },
  {
   "cell_type": "code",
   "execution_count": null,
   "metadata": {},
   "outputs": [],
   "source": [
    "X = pd.read_csv('/path/X.csv')"
   ]
  },
  {
   "cell_type": "code",
   "execution_count": null,
   "metadata": {},
   "outputs": [],
   "source": [
    "# prepare data\n",
    "\n",
    "X = X.iloc[3::4, :]\n",
    "X = X.sort_values(by = 'hour')\n",
    "X = X.dropna(axis = 1, thresh = 1800)"
   ]
  },
  {
   "cell_type": "code",
   "execution_count": null,
   "metadata": {},
   "outputs": [],
   "source": [
    "y = X.pop('label')\n",
    "\n",
    "# Random undersampling\n",
    "\n",
    "print('Original dataset shape %s' % Counter(y))\n",
    "\n",
    "rus = RandomUnderSampler(random_state=42)\n",
    "X_res, y_res = rus.fit_resample(X, y)\n",
    "print('Resampled dataset shape %s' % Counter(y_res))\n",
    "\n",
    "X_res['label'] = y_res"
   ]
  },
  {
   "cell_type": "code",
   "execution_count": null,
   "metadata": {},
   "outputs": [],
   "source": [
    "# Imputation\n",
    "\n",
    "Xv = X_res.values\n",
    "Xv = impy.median(Xv)\n",
    "\n",
    "# convert back to dataframe\n",
    "km_X = pd.DataFrame(Xv, columns = X_res.columns.values.tolist())\n",
    "km_X.fillna(method='ffill')"
   ]
  },
  {
   "cell_type": "code",
   "execution_count": null,
   "metadata": {},
   "outputs": [],
   "source": [
    "# Scaler for KMeans\n",
    "\n",
    "scaler = StandardScaler()\n",
    "scaler.fit(km_X)\n",
    "X = scaler.transform(km_X)"
   ]
  },
  {
   "cell_type": "code",
   "execution_count": null,
   "metadata": {},
   "outputs": [],
   "source": [
    "# SKLearn Kmeans n=2 with imputation\n",
    "\n",
    "k = 2\n",
    "kmeans = KMeans(n_clusters=k)\n",
    "y_pred = kmeans.fit_predict(X)\n",
    "\n",
    "print(kmeans.inertia_)\n",
    "print(silhouette_score(X, kmeans.labels_))"
   ]
  },
  {
   "cell_type": "code",
   "execution_count": null,
   "metadata": {},
   "outputs": [],
   "source": [
    "# Prepare classes for Decision Tree\n",
    "\n",
    "kmeanModel = KMeans(n_clusters = 2)\n",
    "y = kmeanModel.fit(X).labels_"
   ]
  },
  {
   "cell_type": "code",
   "execution_count": null,
   "metadata": {},
   "outputs": [],
   "source": [
    "# Random Forrest Classifier\n",
    "\n",
    "model_rf = RandomForestClassifier(random_state=1)\n",
    "rf_pipeline = Pipeline([ \n",
    "    ('model_rf',model_rf)\n",
    "])\n",
    "rf_param = {\n",
    "               'model_rf__max_depth': [2, 3, 5, 7, 9],\n",
    "               'model_rf__max_features': ['sqrt', 'log2'],\n",
    "               'model_rf__n_estimators': [10, 100, 500]}\n",
    "\n",
    "rf_random = RandomizedSearchCV(rf_pipeline, rf_param, scoring='f1')"
   ]
  },
  {
   "cell_type": "code",
   "execution_count": null,
   "metadata": {},
   "outputs": [],
   "source": [
    "rf_outer_results = list()\n",
    "rf_best_f1_score=float('-inf')\n",
    "rf_best_parameters={}\n",
    "\n",
    "#Random Forrest\n",
    "search = rf_random\n",
    "result = search.fit(km_X, y)\n",
    "best_model = result.best_estimator_\n",
    "yhat = best_model.predict(km_X)\n",
    "f1score = f1_score(y, yhat)\n",
    "if f1score >= rf_best_f1_score:\n",
    "    rf_best_f1_score=f1score\n",
    "    rf_best_parameters=result.best_params_\n",
    "rf_outer_results.append(f1score)\n",
    "print('Random Forrest test: est=%.3f, cfg=%s' % (result.best_score_, result.best_params_))"
   ]
  },
  {
   "cell_type": "code",
   "execution_count": null,
   "metadata": {},
   "outputs": [],
   "source": [
    "# fit best model\n",
    "\n",
    "clf = RandomForestClassifier(n_estimators = 500, max_depth = 9, max_features = 'log2', random_state = 42)\n",
    "clf.fit(km_X, y)"
   ]
  },
  {
   "cell_type": "code",
   "execution_count": null,
   "metadata": {},
   "outputs": [],
   "source": [
    "# roc curve\n",
    "\n",
    "y_probas_forest = cross_val_predict(clf, km_X, y, cv=3, method='predict_proba')"
   ]
  },
  {
   "cell_type": "code",
   "execution_count": null,
   "metadata": {},
   "outputs": [],
   "source": [
    "# roc curve\n",
    "\n",
    "y_scores_forest = y_probas_forest[:, 1] # score  proba of positive class\n",
    "fpr_forest, tpr_forest, thresholds_forest = roc_curve(y, y_scores_forest)"
   ]
  },
  {
   "cell_type": "code",
   "execution_count": null,
   "metadata": {},
   "outputs": [],
   "source": [
    "roc_auc_score(y, clf.predict_proba(km_X)[:, 1])"
   ]
  },
  {
   "cell_type": "code",
   "execution_count": null,
   "metadata": {},
   "outputs": [],
   "source": [
    "# Force plot for all observations\n",
    "\n",
    "explainer = shap.TreeExplainer(clf)\n",
    "shap_values = explainer.shap_values(km_X)\n",
    "shap.force_plot(explainer.expected_value[1], shap_values[1], km_X)"
   ]
  },
  {
   "cell_type": "code",
   "execution_count": null,
   "metadata": {},
   "outputs": [],
   "source": [
    "# SHAP\n",
    "\n",
    "#shap_interaction_values = explainer.shap_interaction_values(km_X)"
   ]
  },
  {
   "cell_type": "code",
   "execution_count": null,
   "metadata": {},
   "outputs": [],
   "source": [
    "# Summary Plot for sepsis +\n",
    "\n",
    "shap.summary_plot(shap_values[1], km_X)"
   ]
  },
  {
   "cell_type": "code",
   "execution_count": null,
   "metadata": {},
   "outputs": [],
   "source": [
    "# Summary Plot for sepsis -\n",
    "\n",
    "shap.summary_plot(shap_values[0], km_X)"
   ]
  },
  {
   "cell_type": "code",
   "execution_count": null,
   "metadata": {},
   "outputs": [],
   "source": []
  }
 ],
 "metadata": {
  "kernelspec": {
   "display_name": "Python 3",
   "language": "python",
   "name": "python3"
  },
  "language_info": {
   "codemirror_mode": {
    "name": "ipython",
    "version": 3
   },
   "file_extension": ".py",
   "mimetype": "text/x-python",
   "name": "python",
   "nbconvert_exporter": "python",
   "pygments_lexer": "ipython3",
   "version": "3.8.3"
  }
 },
 "nbformat": 4,
 "nbformat_minor": 4
}
